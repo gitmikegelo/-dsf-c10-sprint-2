{
 "cells": [
  {
   "cell_type": "markdown",
   "metadata": {},
   "source": [
    "# Pandas Datetime Capabilities and Visualizations"
   ]
  },
  {
   "cell_type": "markdown",
   "metadata": {},
   "source": [
    "Pandas' datetime objects makes it possible to accomplish complex datetime operations in just a few lines of code."
   ]
  },
  {
   "cell_type": "code",
   "execution_count": 3,
   "metadata": {
    "ExecuteTime": {
     "end_time": "2022-01-04T12:32:59.942100Z",
     "start_time": "2022-01-04T12:32:58.702406Z"
    }
   },
   "outputs": [],
   "source": [
    "# importing the libraries for data processing\n",
    "import numpy as np \n",
    "import pandas as pd \n",
    "\n",
    "#matplotlib for visualizations\n",
    "import matplotlib.pyplot as plt"
   ]
  },
  {
   "cell_type": "code",
   "execution_count": 2,
   "metadata": {},
   "outputs": [
    {
     "name": "stdout",
     "output_type": "stream",
     "text": [
      "Collecting bokeh==2.2.2\n",
      "  Downloading bokeh-2.2.2.tar.gz (8.8 MB)\n",
      "\u001b[K     |████████████████████████████████| 8.8 MB 5.0 MB/s eta 0:00:01\n",
      "\u001b[?25hRequirement already satisfied: PyYAML>=3.10 in /opt/anaconda3/lib/python3.9/site-packages (from bokeh==2.2.2) (6.0)\n",
      "Requirement already satisfied: python-dateutil>=2.1 in /opt/anaconda3/lib/python3.9/site-packages (from bokeh==2.2.2) (2.8.2)\n",
      "Requirement already satisfied: Jinja2>=2.7 in /opt/anaconda3/lib/python3.9/site-packages (from bokeh==2.2.2) (2.11.3)\n",
      "Requirement already satisfied: numpy>=1.11.3 in /opt/anaconda3/lib/python3.9/site-packages (from bokeh==2.2.2) (1.21.5)\n",
      "Requirement already satisfied: pillow>=7.1.0 in /opt/anaconda3/lib/python3.9/site-packages (from bokeh==2.2.2) (9.0.1)\n",
      "Requirement already satisfied: packaging>=16.8 in /opt/anaconda3/lib/python3.9/site-packages (from bokeh==2.2.2) (21.3)\n",
      "Requirement already satisfied: tornado>=5.1 in /opt/anaconda3/lib/python3.9/site-packages (from bokeh==2.2.2) (6.1)\n",
      "Requirement already satisfied: typing_extensions>=3.7.4 in /opt/anaconda3/lib/python3.9/site-packages (from bokeh==2.2.2) (4.1.1)\n",
      "Requirement already satisfied: MarkupSafe>=0.23 in /opt/anaconda3/lib/python3.9/site-packages (from Jinja2>=2.7->bokeh==2.2.2) (2.0.1)\n",
      "Requirement already satisfied: pyparsing!=3.0.5,>=2.0.2 in /opt/anaconda3/lib/python3.9/site-packages (from packaging>=16.8->bokeh==2.2.2) (3.0.4)\n",
      "Requirement already satisfied: six>=1.5 in /opt/anaconda3/lib/python3.9/site-packages (from python-dateutil>=2.1->bokeh==2.2.2) (1.16.0)\n",
      "Building wheels for collected packages: bokeh\n",
      "  Building wheel for bokeh (setup.py) ... \u001b[?25ldone\n",
      "\u001b[?25h  Created wheel for bokeh: filename=bokeh-2.2.2-py3-none-any.whl size=9295666 sha256=9a5579b358ed83ec9662007dabd57f7af499fd017b2516707c673245ba6edcd7\n",
      "  Stored in directory: /Users/jcperalta/Library/Caches/pip/wheels/1d/91/d2/a8ca19d4cc1b4bd6cb6b2184107371e3422a14a960026ed7cf\n",
      "Successfully built bokeh\n",
      "Installing collected packages: bokeh\n",
      "  Attempting uninstall: bokeh\n",
      "    Found existing installation: bokeh 2.4.2\n",
      "    Uninstalling bokeh-2.4.2:\n",
      "      Successfully uninstalled bokeh-2.4.2\n",
      "\u001b[31mERROR: pip's dependency resolver does not currently take into account all the packages that are installed. This behaviour is the source of the following dependency conflicts.\n",
      "panel 0.13.0 requires bokeh<2.5.0,>=2.4.0, but you have bokeh 2.2.2 which is incompatible.\u001b[0m\n",
      "Successfully installed bokeh-2.2.2\n"
     ]
    }
   ],
   "source": [
    "# downgrade bokeh for streamlit compatibility\n",
    "!pip install bokeh==2.2.2 "
   ]
  },
  {
   "cell_type": "markdown",
   "metadata": {},
   "source": [
    "### 1. Data Preparation"
   ]
  },
  {
   "cell_type": "code",
   "execution_count": 4,
   "metadata": {
    "ExecuteTime": {
     "end_time": "2022-01-04T12:33:00.634689Z",
     "start_time": "2022-01-04T12:32:59.946081Z"
    }
   },
   "outputs": [
    {
     "data": {
      "text/html": [
       "<div>\n",
       "<style scoped>\n",
       "    .dataframe tbody tr th:only-of-type {\n",
       "        vertical-align: middle;\n",
       "    }\n",
       "\n",
       "    .dataframe tbody tr th {\n",
       "        vertical-align: top;\n",
       "    }\n",
       "\n",
       "    .dataframe thead th {\n",
       "        text-align: right;\n",
       "    }\n",
       "</style>\n",
       "<table border=\"1\" class=\"dataframe\">\n",
       "  <thead>\n",
       "    <tr style=\"text-align: right;\">\n",
       "      <th></th>\n",
       "      <th>date</th>\n",
       "      <th>position</th>\n",
       "      <th>track_id</th>\n",
       "      <th>track_name</th>\n",
       "      <th>artist</th>\n",
       "      <th>streams</th>\n",
       "    </tr>\n",
       "  </thead>\n",
       "  <tbody>\n",
       "    <tr>\n",
       "      <th>0</th>\n",
       "      <td>2017-01-01</td>\n",
       "      <td>1</td>\n",
       "      <td>0kN8xEmgMW9mh7UmDYHlJP</td>\n",
       "      <td>Versace on the Floor</td>\n",
       "      <td>Bruno Mars</td>\n",
       "      <td>185236</td>\n",
       "    </tr>\n",
       "    <tr>\n",
       "      <th>1</th>\n",
       "      <td>2017-01-01</td>\n",
       "      <td>2</td>\n",
       "      <td>5uCax9HTNlzGybIStD3vDh</td>\n",
       "      <td>Say You Won't Let Go</td>\n",
       "      <td>James Arthur</td>\n",
       "      <td>180552</td>\n",
       "    </tr>\n",
       "    <tr>\n",
       "      <th>2</th>\n",
       "      <td>2017-01-01</td>\n",
       "      <td>3</td>\n",
       "      <td>7BKLCZ1jbUBVqRi2FVlTVw</td>\n",
       "      <td>Closer</td>\n",
       "      <td>The Chainsmokers</td>\n",
       "      <td>158720</td>\n",
       "    </tr>\n",
       "    <tr>\n",
       "      <th>3</th>\n",
       "      <td>2017-01-01</td>\n",
       "      <td>4</td>\n",
       "      <td>2rizacJSyD9S1IQUxUxnsK</td>\n",
       "      <td>All We Know</td>\n",
       "      <td>The Chainsmokers</td>\n",
       "      <td>130874</td>\n",
       "    </tr>\n",
       "    <tr>\n",
       "      <th>4</th>\n",
       "      <td>2017-01-01</td>\n",
       "      <td>5</td>\n",
       "      <td>5MFzQMkrl1FOOng9tq6R9r</td>\n",
       "      <td>Don't Wanna Know</td>\n",
       "      <td>Maroon 5</td>\n",
       "      <td>129656</td>\n",
       "    </tr>\n",
       "  </tbody>\n",
       "</table>\n",
       "</div>"
      ],
      "text/plain": [
       "        date  position                track_id            track_name  \\\n",
       "0 2017-01-01         1  0kN8xEmgMW9mh7UmDYHlJP  Versace on the Floor   \n",
       "1 2017-01-01         2  5uCax9HTNlzGybIStD3vDh  Say You Won't Let Go   \n",
       "2 2017-01-01         3  7BKLCZ1jbUBVqRi2FVlTVw                Closer   \n",
       "3 2017-01-01         4  2rizacJSyD9S1IQUxUxnsK           All We Know   \n",
       "4 2017-01-01         5  5MFzQMkrl1FOOng9tq6R9r      Don't Wanna Know   \n",
       "\n",
       "             artist  streams  \n",
       "0        Bruno Mars   185236  \n",
       "1      James Arthur   180552  \n",
       "2  The Chainsmokers   158720  \n",
       "3  The Chainsmokers   130874  \n",
       "4          Maroon 5   129656  "
      ]
     },
     "execution_count": 4,
     "metadata": {},
     "output_type": "execute_result"
    }
   ],
   "source": [
    "# read and process the charts dataset\n",
    "charts_df = pd.read_csv('data/spotify_daily_charts.csv')\n",
    "#transform date column into a datetime column\n",
    "charts_df['date'] = pd.to_datetime(charts_df['date'])\n",
    "charts_df.head()"
   ]
  },
  {
   "cell_type": "markdown",
   "metadata": {},
   "source": [
    "### 2. Static time series plot in matplotlib"
   ]
  },
  {
   "cell_type": "markdown",
   "metadata": {},
   "source": [
    "Q: Compare the 7-day top chart **position** for Ben & Ben and Ariana Grande"
   ]
  },
  {
   "cell_type": "code",
   "execution_count": 6,
   "metadata": {},
   "outputs": [
    {
     "data": {
      "text/html": [
       "<div>\n",
       "<style scoped>\n",
       "    .dataframe tbody tr th:only-of-type {\n",
       "        vertical-align: middle;\n",
       "    }\n",
       "\n",
       "    .dataframe tbody tr th {\n",
       "        vertical-align: top;\n",
       "    }\n",
       "\n",
       "    .dataframe thead th {\n",
       "        text-align: right;\n",
       "    }\n",
       "</style>\n",
       "<table border=\"1\" class=\"dataframe\">\n",
       "  <thead>\n",
       "    <tr style=\"text-align: right;\">\n",
       "      <th></th>\n",
       "      <th>position</th>\n",
       "    </tr>\n",
       "    <tr>\n",
       "      <th>date</th>\n",
       "      <th></th>\n",
       "    </tr>\n",
       "  </thead>\n",
       "  <tbody>\n",
       "    <tr>\n",
       "      <th>2017-01-01</th>\n",
       "      <td>NaN</td>\n",
       "    </tr>\n",
       "    <tr>\n",
       "      <th>2017-01-02</th>\n",
       "      <td>NaN</td>\n",
       "    </tr>\n",
       "    <tr>\n",
       "      <th>2017-01-03</th>\n",
       "      <td>NaN</td>\n",
       "    </tr>\n",
       "    <tr>\n",
       "      <th>2017-01-04</th>\n",
       "      <td>NaN</td>\n",
       "    </tr>\n",
       "    <tr>\n",
       "      <th>2017-01-05</th>\n",
       "      <td>NaN</td>\n",
       "    </tr>\n",
       "    <tr>\n",
       "      <th>...</th>\n",
       "      <td>...</td>\n",
       "    </tr>\n",
       "    <tr>\n",
       "      <th>2022-05-14</th>\n",
       "      <td>99.0</td>\n",
       "    </tr>\n",
       "    <tr>\n",
       "      <th>2022-05-15</th>\n",
       "      <td>99.0</td>\n",
       "    </tr>\n",
       "    <tr>\n",
       "      <th>2022-05-16</th>\n",
       "      <td>99.0</td>\n",
       "    </tr>\n",
       "    <tr>\n",
       "      <th>2022-05-17</th>\n",
       "      <td>99.0</td>\n",
       "    </tr>\n",
       "    <tr>\n",
       "      <th>2022-05-18</th>\n",
       "      <td>99.0</td>\n",
       "    </tr>\n",
       "  </tbody>\n",
       "</table>\n",
       "<p>1895 rows × 1 columns</p>\n",
       "</div>"
      ],
      "text/plain": [
       "            position\n",
       "date                \n",
       "2017-01-01       NaN\n",
       "2017-01-02       NaN\n",
       "2017-01-03       NaN\n",
       "2017-01-04       NaN\n",
       "2017-01-05       NaN\n",
       "...              ...\n",
       "2022-05-14      99.0\n",
       "2022-05-15      99.0\n",
       "2022-05-16      99.0\n",
       "2022-05-17      99.0\n",
       "2022-05-18      99.0\n",
       "\n",
       "[1895 rows x 1 columns]"
      ]
     },
     "execution_count": 6,
     "metadata": {},
     "output_type": "execute_result"
    }
   ],
   "source": [
    "data1 = charts_df[charts_df['artist']=='Ariana Grande'].groupby('date')[['position']].min()\n",
    "data1 = data1.rolling(7).min()\n",
    "data1"
   ]
  },
  {
   "cell_type": "code",
   "execution_count": 9,
   "metadata": {
    "ExecuteTime": {
     "end_time": "2022-01-04T12:33:01.292311Z",
     "start_time": "2022-01-04T12:33:00.640683Z"
    },
    "scrolled": true
   },
   "outputs": [
    {
     "data": {
      "text/plain": [
       "Text(0.5, 1.0, 'Spotify Weekly Top Chart Positions: Ariana Grande and Ben&Ben')"
      ]
     },
     "execution_count": 9,
     "metadata": {},
     "output_type": "execute_result"
    },
    {
     "data": {
      "image/png": "[encoded data removed]",
      "text/plain": [
       "<Figure size 936x288 with 1 Axes>"
      ]
     },
     "metadata": {
      "needs_background": "light"
     },
     "output_type": "display_data"
    }
   ],
   "source": [
    "fig = plt.figure(figsize=(13,4))\n",
    "ax = fig.add_subplot(111)\n",
    "\n",
    "artists = ('Ariana Grande','Ben&Ben')\n",
    "#####################\n",
    "#artist 1\n",
    "#get top position of all charting songs of the artist per day\n",
    "data1 = charts_df[charts_df['artist']==artists[0]].groupby('date')[['position']].min()\n",
    "#get rolling 7 day minimum of top daily positions\n",
    "data1 = data1.rolling(7).min()\n",
    "\n",
    "#####################\n",
    "#artist 2\n",
    "data2 = charts_df[charts_df['artist']==artists[1]].groupby('date')[['position']].min()\n",
    "data2 = data2.rolling(7).min()\n",
    "\n",
    "plt.plot(data1, label=artists[0])\n",
    "plt.plot(data2, label=artists[1])\n",
    "\n",
    "#reverse the yaxis to show 1 on top\n",
    "plt.ylim([200,0])\n",
    "plt.yticks([1]+np.arange(25,201,25).tolist())\n",
    "#\n",
    "plt.legend(loc='lower right')\n",
    "plt.ylabel('Chart Position')\n",
    "plt.title('Spotify Weekly Top Chart Positions: %s and %s' % artists)"
   ]
  },
  {
   "cell_type": "markdown",
   "metadata": {},
   "source": [
    ">Q: What insights can you infer from the chart above?"
   ]
  },
  {
   "cell_type": "markdown",
   "metadata": {},
   "source": [
    "Q: Compare the 7-day *mean* total streams of Ben & Ben and Ariana Grande"
   ]
  },
  {
   "cell_type": "code",
   "execution_count": 10,
   "metadata": {
    "ExecuteTime": {
     "end_time": "2022-01-04T12:33:01.761061Z",
     "start_time": "2022-01-04T12:33:01.295311Z"
    }
   },
   "outputs": [
    {
     "data": {
      "text/plain": [
       "Text(0.5, 1.0, 'Spotify Weekly Total Streams: Ariana Grande and Ben&Ben')"
      ]
     },
     "execution_count": 10,
     "metadata": {},
     "output_type": "execute_result"
    },
    {
     "data": {
      "image/png": "[encoded data removed]",
      "text/plain": [
       "<Figure size 936x288 with 1 Axes>"
      ]
     },
     "metadata": {
      "needs_background": "light"
     },
     "output_type": "display_data"
    }
   ],
   "source": [
    "fig = plt.figure(figsize=(13,4))\n",
    "ax = fig.add_subplot(111)\n",
    "\n",
    "\n",
    "artists = ('Ariana Grande','Ben&Ben')\n",
    "#####################\n",
    "#artist 1\n",
    "#get top position of all charting songs of the artist per day\n",
    "data1 = charts_df[charts_df['artist']==artists[0]].groupby('date')[['streams']].sum()\n",
    "#get rolling 7 day mean of top daily positions\n",
    "data1 = data1.rolling(7).mean()\n",
    "\n",
    "#####################\n",
    "#artist 2\n",
    "data2 = charts_df[charts_df['artist']==artists[1]].groupby('date')[['streams']].sum()\n",
    "data2 = data2.rolling(7).mean()\n",
    "\n",
    "plt.plot(data1, label=artists[0])\n",
    "plt.plot(data2, label=artists[1])\n",
    "\n",
    "plt.legend()\n",
    "plt.ylabel('Total streams')\n",
    "plt.title('Spotify Weekly Total Streams: %s and %s' % artists)"
   ]
  },
  {
   "cell_type": "markdown",
   "metadata": {
    "ExecuteTime": {
     "end_time": "2021-12-13T16:48:04.714672Z",
     "start_time": "2021-12-13T16:48:04.699682Z"
    }
   },
   "source": [
    ">Q: What insights can you infer from the chart above?"
   ]
  },
  {
   "cell_type": "markdown",
   "metadata": {},
   "source": [
    "### 3. Interactive time series plot in Bokeh\n"
   ]
  },
  {
   "cell_type": "code",
   "execution_count": null,
   "metadata": {
    "ExecuteTime": {
     "end_time": "2022-01-04T12:33:02.258757Z",
     "start_time": "2022-01-04T12:33:01.765041Z"
    }
   },
   "outputs": [],
   "source": [
    "# Standard imports \n",
    "from bokeh.io import output_notebook, show\n",
    "from bokeh.plotting import figure, output_file, save\n",
    "\n",
    "from bokeh.models.tools import HoverTool\n",
    "from bokeh.models import Legend\n",
    "from bokeh.models import ColumnDataSource, Range1d\n",
    "output_notebook()"
   ]
  },
  {
   "cell_type": "markdown",
   "metadata": {},
   "source": [
    ">Q: Compare the contribution of the top 1-50 tracks vs top 50-200 tracks in the yearly streams of Spotify"
   ]
  },
  {
   "cell_type": "code",
   "execution_count": null,
   "metadata": {
    "ExecuteTime": {
     "end_time": "2022-01-04T12:33:02.344711Z",
     "start_time": "2022-01-04T12:33:02.262755Z"
    }
   },
   "outputs": [],
   "source": [
    "#add is_in_top_50 column in df\n",
    "df = charts_df.copy()\n",
    "df['is_in_top50']=df['position']<=50\n",
    "df = df.set_index('date')\n",
    "df.head()"
   ]
  },
  {
   "cell_type": "code",
   "execution_count": null,
   "metadata": {
    "ExecuteTime": {
     "end_time": "2022-01-04T12:33:02.446649Z",
     "start_time": "2022-01-04T12:33:02.350704Z"
    }
   },
   "outputs": [],
   "source": [
    "#get total yearly streams\n",
    "yr_df = df.groupby('is_in_top50')[['streams']].resample('Y').sum().reset_index()\n",
    "yr_df = yr_df.set_index('date')\n",
    "yr_df"
   ]
  },
  {
   "cell_type": "code",
   "execution_count": null,
   "metadata": {
    "ExecuteTime": {
     "end_time": "2022-01-04T12:33:02.560586Z",
     "start_time": "2022-01-04T12:33:02.449647Z"
    }
   },
   "outputs": [],
   "source": [
    "#initialize plot\n",
    "p = figure(title=\"Spotify Yearly Streams for Charting Tracks\",plot_width=500, plot_height=300)\n",
    "#plot glyphs - vertical bar\n",
    "#top 1-50\n",
    "data = yr_df[yr_df['is_in_top50']==True]\n",
    "b1 = p.vbar(x=data.index.year.values-0.15,\\\n",
    "       top=data['streams'].values/1000000000,\n",
    "       width=0.2, bottom=0, color=\"crimson\",  muted_alpha=0.2)\n",
    "#top 50-200\n",
    "data = yr_df[yr_df['is_in_top50']==True]\n",
    "b2 = p.vbar(x=data.index.year.values+0.15,\\\n",
    "       top=data['streams'].values/1000000000,\n",
    "       width=0.2, bottom=0, color=\"dodgerblue\", muted_alpha=0.2)\n",
    "#set plot parameters\n",
    "#axis\n",
    "p.xaxis.axis_label = 'date'\n",
    "p.yaxis.axis_label = 'Streams (in billions)'\n",
    "#legend\n",
    "p.legend.label_text_font_size = '8pt'\n",
    "p.legend.click_policy=\"hide\"\n",
    "\n",
    "show(p)"
   ]
  },
  {
   "cell_type": "code",
   "execution_count": null,
   "metadata": {
    "ExecuteTime": {
     "end_time": "2022-01-04T12:33:02.651532Z",
     "start_time": "2022-01-04T12:33:02.563582Z"
    }
   },
   "outputs": [],
   "source": [
    "#initialize plot\n",
    "p = figure(title=\"Spotify Yearly Streams for Charting Tracks\",plot_width=500, plot_height=300)\n",
    "data = yr_df\n",
    "\n",
    "legend_labels = ['Top50','Top51-200']\n",
    "legend_it = []\n",
    "#plot glyphs - vertical bar\n",
    "\n",
    "#top 1-50\n",
    "data = yr_df[yr_df['is_in_top50']==True]\n",
    "b1 = p.vbar(x=data.index.year.values-0.15,\\\n",
    "       top=data['streams'].values/1000000000,\n",
    "       width=0.2, bottom=0, color=\"crimson\",  muted_alpha=0.2)\n",
    "#top 50-200\n",
    "data = yr_df[yr_df['is_in_top50']==True]\n",
    "b2 = p.vbar(x=data.index.year.values+0.15,\\\n",
    "       top=data['streams'].values/1000000000,\n",
    "       width=0.2, bottom=0, color=\"dodgerblue\", muted_alpha=0.2)\n",
    "\n",
    "#set plot parameters\n",
    "#legend, out of plot area\n",
    "legend_it = list(zip(legend_labels,[[b1],[b2]]))\n",
    "legend = Legend(items=legend_it)\n",
    "p.add_layout(legend, 'right')\n",
    "p.legend.click_policy=\"mute\"\n",
    "\n",
    "#axis\n",
    "p.xaxis.axis_label = 'date'\n",
    "p.yaxis.axis_label = 'Streams (in billions)'\n",
    "\n",
    "show(p)"
   ]
  },
  {
   "cell_type": "markdown",
   "metadata": {},
   "source": [
    ">Q: What insights can you infer from the chart above?"
   ]
  },
  {
   "cell_type": "markdown",
   "metadata": {},
   "source": [
    "Convert the time series static plots into Bokeh charts"
   ]
  },
  {
   "cell_type": "code",
   "execution_count": null,
   "metadata": {
    "ExecuteTime": {
     "end_time": "2022-01-04T12:33:02.915380Z",
     "start_time": "2022-01-04T12:33:02.655529Z"
    },
    "scrolled": false
   },
   "outputs": [],
   "source": [
    "#Simple time series plot with Viz\n",
    "from bokeh.models import Range1d\n",
    "#initialize plot\n",
    "p = figure(x_axis_type=\"datetime\", title=\"Spotify Daily Charts\", plot_height=350, plot_width=800)\n",
    "#set parameters\n",
    "p.xgrid.grid_line_color=None\n",
    "p.ygrid.grid_line_alpha=0.5\n",
    "p.xaxis.axis_label = 'date'\n",
    "p.yaxis.axis_label = 'Position'\n",
    "p.y_range.flipped = True\n",
    "p.y_range=Range1d(200,0.5)\n",
    "\n",
    "p.yaxis.ticker = [1,50,100,150,200]\n",
    "#p.xaxis.major_label_overrides = {1: 'A', 2: 'B', 3: 'C'}\n",
    "\n",
    "#loop over data, filter and plot glyph-line\n",
    "artists = ['Ariana Grande','Ben&Ben']\n",
    "colors=['orange','blue']\n",
    "for n,artist in enumerate(artists):\n",
    "    artist_df = pd.DataFrame({'date':pd.unique(df.index)}).set_index('date')\n",
    "    positions = df[df['artist']==artist].groupby('date')[['position']].min().rolling(7).min()\n",
    "    artist_df['position'] = positions\n",
    "    artist_df = artist_df.reset_index()\n",
    "    \n",
    "    #can add .flatten() to y-values to deal with rolling window value nesting\n",
    "    p.line(artist_df['date'], artist_df['position'], color=colors[n],legend_label=artist)\n",
    "    \n",
    "\n",
    "p.legend.location = \"bottom_right\"\n",
    "p.legend.click_policy=\"hide\"\n",
    "\n",
    "show(p)"
   ]
  },
  {
   "cell_type": "code",
   "execution_count": null,
   "metadata": {
    "ExecuteTime": {
     "end_time": "2022-01-04T12:33:03.342136Z",
     "start_time": "2022-01-04T12:33:02.919378Z"
    },
    "code_folding": [
     34
    ]
   },
   "outputs": [],
   "source": [
    "#Simple time series plot with selectable legend and hover output\n",
    "\n",
    "p = figure(x_axis_type=\"datetime\", title=\"Spotify Daily Charts\", plot_height=350, plot_width=800)\n",
    "\n",
    "#reformat data to suit ColumnDataSource\n",
    "#loop over data, filter and plot glyph-line\n",
    "artists = ['Ariana Grande','Ben&Ben']\n",
    "colors=['blue','orange','red']\n",
    "for n,artist in enumerate(artists):\n",
    "    artist_df = pd.DataFrame({'date':pd.unique(df.index)}).set_index('date')\n",
    "    top5songs = df[(df['artist']==artist)].groupby(['track_name'])[['streams']].sum()\\\n",
    "                                            .sort_values(by='streams', ascending=False)[:5].reset_index()['track_name']\n",
    "    positions = df[(df['artist']==artist)&(df['track_name'].isin(top5songs))].groupby('date')[['position']].min().rolling(7).min()\n",
    "    artist_df['position'] = positions\n",
    "    artist_df = artist_df.reset_index()\n",
    "    artist_df['artist'] = artist\n",
    "    #declare as column data source for hover\n",
    "    source = ColumnDataSource(data = {'date': artist_df['date'].values,\n",
    "                                      'position': artist_df['position'].values,\n",
    "                                      'artist': artist_df['artist'].values})\n",
    "    #plot glyph-line\n",
    "    #add .flatten() to y-values to deal with rolling window value nesting\n",
    "    p.line(x='date', y='position', color=colors[n], source=source, legend_label=artist)\n",
    "    #add hover tool\n",
    "    p.add_tools(HoverTool(\n",
    "        tooltips=[\n",
    "                ( 'date',   '@date{%F}'),\n",
    "                ( 'position',  '@position' ), # use @{ } for field names with spaces\n",
    "                ( 'artist', '@artist'      ),\n",
    "            ],\n",
    "        formatters={\n",
    "            '@date' : 'datetime',\n",
    "        }\n",
    "    ))\n",
    "\n",
    "#plot formatting parameters\n",
    "p.xgrid.grid_line_color=None\n",
    "p.ygrid.grid_line_alpha=0.5\n",
    "p.xaxis.axis_label = 'date'\n",
    "p.yaxis.axis_label = 'Position'\n",
    "p.y_range.flipped = True\n",
    "p.y_range=Range1d(200,0)\n",
    "p.yaxis.ticker = [1,50,100,150,200]\n",
    "\n",
    "p.legend.location = \"bottom_right\"\n",
    "p.legend.click_policy=\"hide\"\n",
    "show(p)"
   ]
  },
  {
   "cell_type": "code",
   "execution_count": null,
   "metadata": {
    "ExecuteTime": {
     "end_time": "2022-01-04T12:33:03.506042Z",
     "start_time": "2022-01-04T12:33:03.345140Z"
    }
   },
   "outputs": [],
   "source": [
    "#save most recent plot\n",
    "output_file('figs/position_plot.html', mode='inline')\n",
    "save(p)"
   ]
  },
  {
   "cell_type": "markdown",
   "metadata": {},
   "source": [
    "## Try it yourself!"
   ]
  },
  {
   "cell_type": "markdown",
   "metadata": {},
   "source": [
    "1. Among those included in the Spotify charts, pick 1 artist you like to analyze. \n",
    "\n",
    "   a. Plot the streams and positions of their top 5 streamed songs.\n",
    "   \n",
    "   b. Compare these charts with streams and positions of what you feel to be a possible collaborator/competitor/related artist. \n",
    "\n",
    "   What insights can you draw from the data?"
   ]
  },
  {
   "cell_type": "code",
   "execution_count": null,
   "metadata": {
    "ExecuteTime": {
     "end_time": "2020-10-08T10:30:35.484810Z",
     "start_time": "2020-10-08T10:30:35.267934Z"
    }
   },
   "outputs": [],
   "source": []
  },
  {
   "cell_type": "code",
   "execution_count": null,
   "metadata": {},
   "outputs": [],
   "source": []
  }
 ],
 "metadata": {
  "kernelspec": {
   "display_name": "Python 3 (ipykernel)",
   "language": "python",
   "name": "python3"
  },
  "language_info": {
   "codemirror_mode": {
    "name": "ipython",
    "version": 3
   },
   "file_extension": ".py",
   "mimetype": "text/x-python",
   "name": "python",
   "nbconvert_exporter": "python",
   "pygments_lexer": "ipython3",
   "version": "3.9.12"
  }
 },
 "nbformat": 4,
 "nbformat_minor": 2
}
