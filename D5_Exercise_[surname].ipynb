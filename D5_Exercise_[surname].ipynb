{
 "cells": [
  {
   "cell_type": "markdown",
   "metadata": {},
   "source": [
    "# Day 5 Exercise - Looking at Spotify playlists data "
   ]
  },
  {
   "cell_type": "markdown",
   "metadata": {},
   "source": [
    "## Instructions"
   ]
  },
  {
   "cell_type": "markdown",
   "metadata": {},
   "source": [
    "\n",
    "1. (5 mins) As a group, choose up to 6 music genres and obtain track data from the genre's top 20 most-followed playlists in Spotify. \n",
    "\n",
    "2. (5 mins) Distribute the data gathering task by assigning 1-2 playlist genres to each person and then pooling all the gathered data in one shared folder. \n",
    "\n",
    "3. (10 mins) Each group member must compare the audio features of 2 playlist genres using histograms. Identify audio features that best distinguishes each genre from the other (i.e. the feature best to use for a classification model) \n",
    "4.( 15 mins) Take turns presenting this notebook with your code answer to the whole group."
   ]
  },
  {
   "cell_type": "code",
   "execution_count": null,
   "metadata": {
    "ExecuteTime": {
     "end_time": "2021-12-28T08:25:37.134695Z",
     "start_time": "2021-12-28T08:25:34.435612Z"
    }
   },
   "outputs": [],
   "source": [
    "import pandas as pd\n",
    "import numpy as np\n",
    "\n",
    "import seaborn as sns\n",
    "import matplotlib.pyplot as plt\n",
    "%matplotlib inline"
   ]
  },
  {
   "cell_type": "markdown",
   "metadata": {},
   "source": [
    "### 1. Read playlist tracks of 2 genres"
   ]
  },
  {
   "cell_type": "markdown",
   "metadata": {},
   "source": [
    "#### Genre 1: [insert genre name here]"
   ]
  },
  {
   "cell_type": "code",
   "execution_count": null,
   "metadata": {
    "ExecuteTime": {
     "end_time": "2021-12-28T08:25:37.150267Z",
     "start_time": "2021-12-28T08:25:37.134695Z"
    }
   },
   "outputs": [],
   "source": [
    "#set keyword\n",
    "KEYWORD1='rock'"
   ]
  },
  {
   "cell_type": "code",
   "execution_count": null,
   "metadata": {
    "ExecuteTime": {
     "end_time": "2021-12-28T08:25:37.734598Z",
     "start_time": "2021-12-28T08:25:37.168259Z"
    },
    "scrolled": true
   },
   "outputs": [],
   "source": [
    "# read and process the playlist data for keyword\n",
    "tracks1_df = pd.read_csv('data/playlists/'+KEYWORD1+'_playlist_tracks_data.csv')\\\n",
    "                .merge(pd.read_csv('data/playlists/'+KEYWORD1+'_playlist_tracks.csv')\\\n",
    "                       [['track_id','playlist_id','playlist_name']],\\\n",
    "                      on='track_id',how='left')\n",
    "#make duration ms to minutes\n",
    "tracks1_df['duration_mins'] = tracks1_df['duration'] / 60000\n",
    "#tag genre with keyword\n",
    "tracks1_df['genre'] = KEYWORD1\n",
    "tracks1_df.head()"
   ]
  },
  {
   "cell_type": "markdown",
   "metadata": {},
   "source": [
    "#### Genre 2: [insert genre name here]"
   ]
  },
  {
   "cell_type": "code",
   "execution_count": null,
   "metadata": {
    "ExecuteTime": {
     "end_time": "2021-12-28T08:25:37.738575Z",
     "start_time": "2021-12-28T08:25:34.456Z"
    }
   },
   "outputs": [],
   "source": [
    "#set keyword\n",
    "KEYWORD2='R&B'"
   ]
  },
  {
   "cell_type": "code",
   "execution_count": null,
   "metadata": {
    "ExecuteTime": {
     "end_time": "2021-12-28T08:25:37.741573Z",
     "start_time": "2021-12-28T08:25:34.461Z"
    }
   },
   "outputs": [],
   "source": [
    "# read and process the playlist data for keyword\n",
    "tracks2_df = pd.read_csv('data/playlists/'+KEYWORD2+'_playlist_tracks_data.csv')\\\n",
    "                .merge(pd.read_csv('data/playlists/'+KEYWORD2+'_playlist_tracks.csv')\\\n",
    "                       [['track_id','playlist_id','playlist_name']],\\\n",
    "                      on='track_id',how='left')\n",
    "#make duration ms to minutes\n",
    "tracks2_df['duration_mins'] = tracks2_df['duration'] / 60000\n",
    "#tag genre with keyword\n",
    "tracks2_df['genre'] = KEYWORD1\n",
    "tracks2_df.head()"
   ]
  },
  {
   "cell_type": "markdown",
   "metadata": {},
   "source": [
    "## 2. Check the playlist tracks' histogram of audio features"
   ]
  },
  {
   "cell_type": "code",
   "execution_count": null,
   "metadata": {
    "ExecuteTime": {
     "end_time": "2021-02-02T06:32:23.990401Z",
     "start_time": "2021-02-02T06:32:19.099020Z"
    }
   },
   "outputs": [],
   "source": [
    "# Plot histogram comparing audio features for both playlist genres\n",
    "# Write code here \n"
   ]
  },
  {
   "cell_type": "markdown",
   "metadata": {},
   "source": [
    ">Q: What audio feature/s best defines the genre you picked? Does it make sense to use these as a feature for a classification model?"
   ]
  },
  {
   "cell_type": "markdown",
   "metadata": {},
   "source": [
    "Answer here"
   ]
  },
  {
   "cell_type": "markdown",
   "metadata": {},
   "source": [
    "*Submit this notebook at the end of class time*"
   ]
  },
  {
   "cell_type": "code",
   "execution_count": null,
   "metadata": {},
   "outputs": [],
   "source": []
  }
 ],
 "metadata": {
  "kernelspec": {
   "display_name": "Python 3 (ipykernel)",
   "language": "python",
   "name": "python3"
  },
  "language_info": {
   "codemirror_mode": {
    "name": "ipython",
    "version": 3
   },
   "file_extension": ".py",
   "mimetype": "text/x-python",
   "name": "python",
   "nbconvert_exporter": "python",
   "pygments_lexer": "ipython3",
   "version": "3.9.12"
  }
 },
 "nbformat": 4,
 "nbformat_minor": 2
}
