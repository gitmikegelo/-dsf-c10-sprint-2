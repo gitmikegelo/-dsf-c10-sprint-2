{
 "cells": [
  {
   "cell_type": "markdown",
   "metadata": {},
   "source": [
    "# Looking at Data Distributions"
   ]
  },
  {
   "cell_type": "markdown",
   "metadata": {},
   "source": [
    "When faced with a dataset that you are seeing for the first time, one of the first things that you should do is to plot distributions of its columns. \n",
    "\n",
    "What information can we make out of data distributions?"
   ]
  },
  {
   "cell_type": "code",
   "execution_count": 2,
   "metadata": {
    "ExecuteTime": {
     "end_time": "2022-01-04T10:48:29.525327Z",
     "start_time": "2022-01-04T10:48:29.517329Z"
    }
   },
   "outputs": [],
   "source": [
    "import pandas as pd\n",
    "import numpy as np\n",
    "\n",
    "import seaborn as sns\n",
    "import matplotlib.pyplot as plt\n",
    "%matplotlib inline"
   ]
  },
  {
   "cell_type": "code",
   "execution_count": 11,
   "metadata": {
    "ExecuteTime": {
     "end_time": "2022-01-04T10:48:29.619271Z",
     "start_time": "2022-01-04T10:48:29.534317Z"
    }
   },
   "outputs": [
    {
     "data": {
      "text/html": [
       "<div>\n",
       "<style scoped>\n",
       "    .dataframe tbody tr th:only-of-type {\n",
       "        vertical-align: middle;\n",
       "    }\n",
       "\n",
       "    .dataframe tbody tr th {\n",
       "        vertical-align: top;\n",
       "    }\n",
       "\n",
       "    .dataframe thead th {\n",
       "        text-align: right;\n",
       "    }\n",
       "</style>\n",
       "<table border=\"1\" class=\"dataframe\">\n",
       "  <thead>\n",
       "    <tr style=\"text-align: right;\">\n",
       "      <th></th>\n",
       "      <th>date</th>\n",
       "      <th>position</th>\n",
       "      <th>track_id</th>\n",
       "      <th>track_name</th>\n",
       "      <th>artist</th>\n",
       "      <th>streams</th>\n",
       "    </tr>\n",
       "  </thead>\n",
       "  <tbody>\n",
       "    <tr>\n",
       "      <th>0</th>\n",
       "      <td>2017-01-01</td>\n",
       "      <td>1</td>\n",
       "      <td>0kN8xEmgMW9mh7UmDYHlJP</td>\n",
       "      <td>Versace on the Floor</td>\n",
       "      <td>Bruno Mars</td>\n",
       "      <td>185236</td>\n",
       "    </tr>\n",
       "    <tr>\n",
       "      <th>1</th>\n",
       "      <td>2017-01-01</td>\n",
       "      <td>2</td>\n",
       "      <td>5uCax9HTNlzGybIStD3vDh</td>\n",
       "      <td>Say You Won't Let Go</td>\n",
       "      <td>James Arthur</td>\n",
       "      <td>180552</td>\n",
       "    </tr>\n",
       "    <tr>\n",
       "      <th>2</th>\n",
       "      <td>2017-01-01</td>\n",
       "      <td>3</td>\n",
       "      <td>7BKLCZ1jbUBVqRi2FVlTVw</td>\n",
       "      <td>Closer</td>\n",
       "      <td>The Chainsmokers</td>\n",
       "      <td>158720</td>\n",
       "    </tr>\n",
       "    <tr>\n",
       "      <th>3</th>\n",
       "      <td>2017-01-01</td>\n",
       "      <td>4</td>\n",
       "      <td>2rizacJSyD9S1IQUxUxnsK</td>\n",
       "      <td>All We Know</td>\n",
       "      <td>The Chainsmokers</td>\n",
       "      <td>130874</td>\n",
       "    </tr>\n",
       "    <tr>\n",
       "      <th>4</th>\n",
       "      <td>2017-01-01</td>\n",
       "      <td>5</td>\n",
       "      <td>5MFzQMkrl1FOOng9tq6R9r</td>\n",
       "      <td>Don't Wanna Know</td>\n",
       "      <td>Maroon 5</td>\n",
       "      <td>129656</td>\n",
       "    </tr>\n",
       "  </tbody>\n",
       "</table>\n",
       "</div>"
      ],
      "text/plain": [
       "         date  position                track_id            track_name  \\\n",
       "0  2017-01-01         1  0kN8xEmgMW9mh7UmDYHlJP  Versace on the Floor   \n",
       "1  2017-01-01         2  5uCax9HTNlzGybIStD3vDh  Say You Won't Let Go   \n",
       "2  2017-01-01         3  7BKLCZ1jbUBVqRi2FVlTVw                Closer   \n",
       "3  2017-01-01         4  2rizacJSyD9S1IQUxUxnsK           All We Know   \n",
       "4  2017-01-01         5  5MFzQMkrl1FOOng9tq6R9r      Don't Wanna Know   \n",
       "\n",
       "             artist  streams  \n",
       "0        Bruno Mars   185236  \n",
       "1      James Arthur   180552  \n",
       "2  The Chainsmokers   158720  \n",
       "3  The Chainsmokers   130874  \n",
       "4          Maroon 5   129656  "
      ]
     },
     "execution_count": 11,
     "metadata": {},
     "output_type": "execute_result"
    }
   ],
   "source": [
    "# read and process the tracks dataset\n",
    "tracks_df = pd.read_csv('data/spotify_daily_charts.csv')\n",
    "tracks_df.head()"
   ]
  },
  {
   "cell_type": "code",
   "execution_count": 19,
   "metadata": {},
   "outputs": [
    {
     "data": {
      "text/html": [
       "<div>\n",
       "<style scoped>\n",
       "    .dataframe tbody tr th:only-of-type {\n",
       "        vertical-align: middle;\n",
       "    }\n",
       "\n",
       "    .dataframe tbody tr th {\n",
       "        vertical-align: top;\n",
       "    }\n",
       "\n",
       "    .dataframe thead th {\n",
       "        text-align: right;\n",
       "    }\n",
       "</style>\n",
       "<table border=\"1\" class=\"dataframe\">\n",
       "  <thead>\n",
       "    <tr style=\"text-align: right;\">\n",
       "      <th></th>\n",
       "      <th>date</th>\n",
       "      <th>position</th>\n",
       "      <th>track_id</th>\n",
       "      <th>track_name</th>\n",
       "      <th>artist</th>\n",
       "      <th>streams</th>\n",
       "    </tr>\n",
       "  </thead>\n",
       "  <tbody>\n",
       "    <tr>\n",
       "      <th>331803</th>\n",
       "      <td>2021-07-22</td>\n",
       "      <td>4</td>\n",
       "      <td>6Fz2TpxUD0YvAPsuG8nDMJ</td>\n",
       "      <td>MAPA</td>\n",
       "      <td>SB19</td>\n",
       "      <td>241724</td>\n",
       "    </tr>\n",
       "    <tr>\n",
       "      <th>332004</th>\n",
       "      <td>2021-07-23</td>\n",
       "      <td>5</td>\n",
       "      <td>6Fz2TpxUD0YvAPsuG8nDMJ</td>\n",
       "      <td>MAPA</td>\n",
       "      <td>SB19</td>\n",
       "      <td>224418</td>\n",
       "    </tr>\n",
       "    <tr>\n",
       "      <th>332404</th>\n",
       "      <td>2021-07-25</td>\n",
       "      <td>5</td>\n",
       "      <td>6Fz2TpxUD0YvAPsuG8nDMJ</td>\n",
       "      <td>MAPA</td>\n",
       "      <td>SB19</td>\n",
       "      <td>197500</td>\n",
       "    </tr>\n",
       "    <tr>\n",
       "      <th>332204</th>\n",
       "      <td>2021-07-24</td>\n",
       "      <td>5</td>\n",
       "      <td>6Fz2TpxUD0YvAPsuG8nDMJ</td>\n",
       "      <td>MAPA</td>\n",
       "      <td>SB19</td>\n",
       "      <td>202902</td>\n",
       "    </tr>\n",
       "    <tr>\n",
       "      <th>327607</th>\n",
       "      <td>2021-07-01</td>\n",
       "      <td>8</td>\n",
       "      <td>6Fz2TpxUD0YvAPsuG8nDMJ</td>\n",
       "      <td>MAPA</td>\n",
       "      <td>SB19</td>\n",
       "      <td>179267</td>\n",
       "    </tr>\n",
       "    <tr>\n",
       "      <th>...</th>\n",
       "      <td>...</td>\n",
       "      <td>...</td>\n",
       "      <td>...</td>\n",
       "      <td>...</td>\n",
       "      <td>...</td>\n",
       "      <td>...</td>\n",
       "    </tr>\n",
       "    <tr>\n",
       "      <th>199798</th>\n",
       "      <td>2019-09-29</td>\n",
       "      <td>199</td>\n",
       "      <td>5Gm6YoDs8N2WznOpASSB5P</td>\n",
       "      <td>Go Up</td>\n",
       "      <td>SB19</td>\n",
       "      <td>23186</td>\n",
       "    </tr>\n",
       "    <tr>\n",
       "      <th>218799</th>\n",
       "      <td>2020-01-02</td>\n",
       "      <td>200</td>\n",
       "      <td>3fNpKcMrEDrnjahY9kN5fQ</td>\n",
       "      <td>Alab (Burning)</td>\n",
       "      <td>SB19</td>\n",
       "      <td>23599</td>\n",
       "    </tr>\n",
       "    <tr>\n",
       "      <th>389799</th>\n",
       "      <td>2022-05-07</td>\n",
       "      <td>200</td>\n",
       "      <td>6Fz2TpxUD0YvAPsuG8nDMJ</td>\n",
       "      <td>MAPA</td>\n",
       "      <td>SB19</td>\n",
       "      <td>32105</td>\n",
       "    </tr>\n",
       "    <tr>\n",
       "      <th>199199</th>\n",
       "      <td>2019-09-26</td>\n",
       "      <td>200</td>\n",
       "      <td>5Gm6YoDs8N2WznOpASSB5P</td>\n",
       "      <td>Go Up</td>\n",
       "      <td>SB19</td>\n",
       "      <td>26538</td>\n",
       "    </tr>\n",
       "    <tr>\n",
       "      <th>389599</th>\n",
       "      <td>2022-05-06</td>\n",
       "      <td>200</td>\n",
       "      <td>6Fz2TpxUD0YvAPsuG8nDMJ</td>\n",
       "      <td>MAPA</td>\n",
       "      <td>SB19</td>\n",
       "      <td>36332</td>\n",
       "    </tr>\n",
       "  </tbody>\n",
       "</table>\n",
       "<p>590 rows × 6 columns</p>\n",
       "</div>"
      ],
      "text/plain": [
       "              date  position                track_id      track_name artist  \\\n",
       "331803  2021-07-22         4  6Fz2TpxUD0YvAPsuG8nDMJ            MAPA   SB19   \n",
       "332004  2021-07-23         5  6Fz2TpxUD0YvAPsuG8nDMJ            MAPA   SB19   \n",
       "332404  2021-07-25         5  6Fz2TpxUD0YvAPsuG8nDMJ            MAPA   SB19   \n",
       "332204  2021-07-24         5  6Fz2TpxUD0YvAPsuG8nDMJ            MAPA   SB19   \n",
       "327607  2021-07-01         8  6Fz2TpxUD0YvAPsuG8nDMJ            MAPA   SB19   \n",
       "...            ...       ...                     ...             ...    ...   \n",
       "199798  2019-09-29       199  5Gm6YoDs8N2WznOpASSB5P           Go Up   SB19   \n",
       "218799  2020-01-02       200  3fNpKcMrEDrnjahY9kN5fQ  Alab (Burning)   SB19   \n",
       "389799  2022-05-07       200  6Fz2TpxUD0YvAPsuG8nDMJ            MAPA   SB19   \n",
       "199199  2019-09-26       200  5Gm6YoDs8N2WznOpASSB5P           Go Up   SB19   \n",
       "389599  2022-05-06       200  6Fz2TpxUD0YvAPsuG8nDMJ            MAPA   SB19   \n",
       "\n",
       "        streams  \n",
       "331803   241724  \n",
       "332004   224418  \n",
       "332404   197500  \n",
       "332204   202902  \n",
       "327607   179267  \n",
       "...         ...  \n",
       "199798    23186  \n",
       "218799    23599  \n",
       "389799    32105  \n",
       "199199    26538  \n",
       "389599    36332  \n",
       "\n",
       "[590 rows x 6 columns]"
      ]
     },
     "execution_count": 19,
     "metadata": {},
     "output_type": "execute_result"
    }
   ],
   "source": [
    "tracks_df[tracks_df['artist']=='SB19'].sort_values('position')"
   ]
  },
  {
   "cell_type": "code",
   "execution_count": null,
   "metadata": {},
   "outputs": [],
   "source": []
  },
  {
   "cell_type": "markdown",
   "metadata": {},
   "source": [
    "### 2. EXERCISE: Get a grasp of all possible values in each column\n",
    "1. Get length of all unique entries in each columns with string (dtype: object) and int type\n",
    "> Q: Why are there more track ids than track names? List all possible reasons you could think.\n",
    "2. Using `describe`, generate a table of basic statistics for the audio features columns of type float\n",
    "> Q: Give 3 insights based on the output of `describe`\n",
    "3. Confirm if the range (range = max - min) of the audio features columns (danceability, energy, ...) matches what is declared in the documentation "
   ]
  },
  {
   "cell_type": "code",
   "execution_count": 25,
   "metadata": {
    "ExecuteTime": {
     "end_time": "2022-01-04T10:48:29.626266Z",
     "start_time": "2022-01-04T10:48:29.622266Z"
    }
   },
   "outputs": [
    {
     "data": {
      "text/plain": [
       "4255"
      ]
     },
     "execution_count": 25,
     "metadata": {},
     "output_type": "execute_result"
    }
   ],
   "source": [
    "#How many unique track ids are there?\n",
    "tracks_df['track_id'].nunique()"
   ]
  },
  {
   "cell_type": "code",
   "execution_count": 26,
   "metadata": {
    "ExecuteTime": {
     "end_time": "2022-01-04T10:48:29.641259Z",
     "start_time": "2022-01-04T10:48:29.636265Z"
    }
   },
   "outputs": [
    {
     "data": {
      "text/plain": [
       "3305"
      ]
     },
     "execution_count": 26,
     "metadata": {},
     "output_type": "execute_result"
    }
   ],
   "source": [
    "#How many unique tracks names are there?\n",
    "tracks_df['track_name'].nunique()"
   ]
  },
  {
   "cell_type": "code",
   "execution_count": 28,
   "metadata": {
    "ExecuteTime": {
     "end_time": "2022-01-04T10:48:29.658246Z",
     "start_time": "2022-01-04T10:48:29.649252Z"
    }
   },
   "outputs": [
    {
     "data": {
      "text/plain": [
       "2779"
      ]
     },
     "execution_count": 28,
     "metadata": {},
     "output_type": "execute_result"
    }
   ],
   "source": [
    "#How many unique album ids are there?\n",
    "len(tracks_df['album_id'].unique())"
   ]
  },
  {
   "cell_type": "code",
   "execution_count": 29,
   "metadata": {
    "ExecuteTime": {
     "end_time": "2022-01-04T10:48:29.670254Z",
     "start_time": "2022-01-04T10:48:29.661244Z"
    }
   },
   "outputs": [
    {
     "data": {
      "text/plain": [
       "array([ 2., 10.,  8.,  0.,  7.,  1.,  4.,  9.,  6., 11.,  5.,  3., nan])"
      ]
     },
     "execution_count": 29,
     "metadata": {},
     "output_type": "execute_result"
    }
   ],
   "source": [
    "#What are the values present in the column \"key\"? Is it consistent with the documentation?\n",
    "tracks_df['key'].unique()"
   ]
  },
  {
   "cell_type": "code",
   "execution_count": 30,
   "metadata": {
    "ExecuteTime": {
     "end_time": "2022-01-04T10:48:29.692244Z",
     "start_time": "2022-01-04T10:48:29.676236Z"
    }
   },
   "outputs": [
    {
     "data": {
      "text/plain": [
       "array([ 1.,  0., nan])"
      ]
     },
     "execution_count": 30,
     "metadata": {},
     "output_type": "execute_result"
    }
   ],
   "source": [
    "#What are the values present in the column \"mode\"? Is it consistent with the documentation?\n",
    "tracks_df['mode'].unique()"
   ]
  },
  {
   "cell_type": "code",
   "execution_count": null,
   "metadata": {
    "ExecuteTime": {
     "end_time": "2022-01-04T10:48:29.713216Z",
     "start_time": "2022-01-04T10:48:29.705219Z"
    },
    "scrolled": true
   },
   "outputs": [],
   "source": [
    "#Generate stats of audio features using describe \n",
    "#Write code here"
   ]
  },
  {
   "cell_type": "code",
   "execution_count": 31,
   "metadata": {
    "ExecuteTime": {
     "end_time": "2022-01-04T10:50:38.062572Z",
     "start_time": "2022-01-04T10:50:38.049580Z"
    }
   },
   "outputs": [],
   "source": [
    "tracks_df = tracks_df.dropna()"
   ]
  },
  {
   "cell_type": "code",
   "execution_count": 34,
   "metadata": {
    "ExecuteTime": {
     "end_time": "2022-01-04T10:50:38.856375Z",
     "start_time": "2022-01-04T10:50:38.790415Z"
    }
   },
   "outputs": [
    {
     "data": {
      "text/plain": [
       "array([ 2., 10.,  8.,  0.,  7.,  1.,  4.,  9.,  6., 11.,  5.,  3.])"
      ]
     },
     "execution_count": 34,
     "metadata": {},
     "output_type": "execute_result"
    }
   ],
   "source": [
    "tracks_df['key'].unique()"
   ]
  },
  {
   "cell_type": "markdown",
   "metadata": {},
   "source": [
    "### 3. Histograms\n",
    "We can now try to plot histograms of the datasets\n",
    "Put simply, histograms are graphical representation of tallies.\n",
    "Read more about histograms here: (https://statistics.laerd.com/statistical-guides/understanding-histograms.php).\n",
    "\n",
    "These are very useful in EDA because at a glance, you could already see how the data is spread over its range.\n",
    "\n",
    "In particular, you should look out for:\n",
    "1. Skewness - Do the values peak around the mean, or over lower (left-skewed)/higher values(right-skewed)?\n",
    "2. Mode - Does it have one peak (unimodal)? two peaks (bimodal)? How many peaks?\n",
    "3. Outliers - Are there a few data points that are substantially distant from bulk of all values?\n",
    "\n",
    "It is **strongly advised** that you look at histograms before you aggregate, or plug in any variable in any model.\n",
    "\n",
    "> Q: Modify the code below to plot histograms for all the numeric columns in df. For each histogram, create a markdown cell below and write a 1-3 sentence about what you observe in the plot."
   ]
  },
  {
   "cell_type": "code",
   "execution_count": 36,
   "metadata": {
    "ExecuteTime": {
     "end_time": "2022-01-04T10:36:45.371276Z",
     "start_time": "2022-01-04T10:36:45.333296Z"
    }
   },
   "outputs": [],
   "source": [
    "#make duration ms to minutes\n",
    "tracks_df['duration_mins']=tracks_df['duration']/60000"
   ]
  },
  {
   "cell_type": "code",
   "execution_count": 37,
   "metadata": {
    "ExecuteTime": {
     "end_time": "2022-01-04T10:37:15.900070Z",
     "start_time": "2022-01-04T10:37:15.356332Z"
    },
    "scrolled": true
   },
   "outputs": [
    {
     "name": "stderr",
     "output_type": "stream",
     "text": [
      "/opt/anaconda3/lib/python3.9/site-packages/seaborn/distributions.py:2619: FutureWarning: `distplot` is a deprecated function and will be removed in a future version. Please adapt your code to use either `displot` (a figure-level function with similar flexibility) or `histplot` (an axes-level function for histograms).\n",
      "  warnings.warn(msg, FutureWarning)\n"
     ]
    },
    {
     "data": {
      "image/png": "[encoded data removed]",
      "text/plain": [
       "<Figure size 432x288 with 1 Axes>"
      ]
     },
     "metadata": {
      "needs_background": "light"
     },
     "output_type": "display_data"
    }
   ],
   "source": [
    "sns.distplot(tracks_df['duration_mins'])\n",
    "plt.title('Duration in Minutes')\n",
    "plt.ylabel('Frequency')\n",
    "plt.show()\n",
    "#sometimes the line might not fit the histogram bars. \n",
    "#these are called Gaussian Kernel Density Estimations and we dont expect them to work for noncontinuous values"
   ]
  },
  {
   "cell_type": "markdown",
   "metadata": {},
   "source": [
    "Most tracks in the Top 200 tend to last around 3-4 mins. There are more songs that last longer than 4 mins than songs that are shorter than 2.5 mins."
   ]
  },
  {
   "cell_type": "code",
   "execution_count": 47,
   "metadata": {
    "ExecuteTime": {
     "end_time": "2022-01-04T10:41:50.282946Z",
     "start_time": "2022-01-04T10:41:49.800223Z"
    }
   },
   "outputs": [
    {
     "name": "stderr",
     "output_type": "stream",
     "text": [
      "/opt/anaconda3/lib/python3.9/site-packages/seaborn/distributions.py:2619: FutureWarning: `distplot` is a deprecated function and will be removed in a future version. Please adapt your code to use either `displot` (a figure-level function with similar flexibility) or `histplot` (an axes-level function for histograms).\n",
      "  warnings.warn(msg, FutureWarning)\n"
     ]
    },
    {
     "data": {
      "image/png": "[encoded data removed]",
      "text/plain": [
       "<Figure size 432x288 with 1 Axes>"
      ]
     },
     "metadata": {
      "needs_background": "light"
     },
     "output_type": "display_data"
    }
   ],
   "source": [
    "#Plot histogram of a chosen audio feature\n",
    "#Write code here \n",
    "sns.distplot(tracks_df['energy'])\n",
    "plt.ylabel('Frequency')\n",
    "plt.show()"
   ]
  },
  {
   "cell_type": "markdown",
   "metadata": {},
   "source": [
    "## 4. Distribution Properties\n",
    "### Skewness - tells you where the tail is\n",
    "[Skewness](https://towardsdatascience.com/testing-for-normality-using-skewness-and-kurtosis-afd61be860) lets you test by how much the overall shape of a distribution deviates from the shape of the normal distribution.\n",
    "   - A **positive skew** (skew > 0) indicates that the tail is on the *right* side of the distribution, which extends towards more positive values.(right-tailed/right-modal)\n",
    "   - A **negative skew** (skew < 0) indicates that the tail is on the *left* side of the distribution, which extends towards more negative values.(left-tailed/left-modal)\n",
    "   - Skew = 0 indicates that there is no skewness in the distribution at all, meaning the distribution is perfectly symmetrical."
   ]
  },
  {
   "cell_type": "markdown",
   "metadata": {},
   "source": [
    "<div>\n",
    "<img src=\"https://www.conversion-uplift.co.uk/wp-content/uploads/2020/06/Skewness-photo.png\" width=\"500\"/>\n",
    "</div>"
   ]
  },
  {
   "cell_type": "code",
   "execution_count": 39,
   "metadata": {
    "ExecuteTime": {
     "end_time": "2022-01-04T10:48:49.049596Z",
     "start_time": "2022-01-04T10:48:49.044598Z"
    }
   },
   "outputs": [],
   "source": [
    "from scipy.stats import skew, kurtosis"
   ]
  },
  {
   "cell_type": "code",
   "execution_count": 40,
   "metadata": {},
   "outputs": [
    {
     "data": {
      "text/plain": [
       "-0.3888622110262673"
      ]
     },
     "execution_count": 40,
     "metadata": {},
     "output_type": "execute_result"
    }
   ],
   "source": [
    "skew(tracks_df['energy'])"
   ]
  },
  {
   "cell_type": "code",
   "execution_count": 41,
   "metadata": {
    "ExecuteTime": {
     "end_time": "2022-01-04T10:48:49.443083Z",
     "start_time": "2022-01-04T10:48:49.435087Z"
    }
   },
   "outputs": [],
   "source": [
    "def skew_type(skewval, skewthres):\n",
    "    test_skew_value = abs(skewval)-skewthres    \n",
    "    if (test_skew_value > 0) & (np.sign(skewval)>0):\n",
    "        return \"right-tailed\"\n",
    "    elif  (test_skew_value > 0) & (np.sign(skewval)<0):\n",
    "        return \"left-tailed\"\n",
    "    else:\n",
    "        return \"approximately symmetric\""
   ]
  },
  {
   "cell_type": "code",
   "execution_count": 42,
   "metadata": {
    "ExecuteTime": {
     "end_time": "2022-01-04T10:48:49.959848Z",
     "start_time": "2022-01-04T10:48:49.897882Z"
    }
   },
   "outputs": [
    {
     "name": "stdout",
     "output_type": "stream",
     "text": [
      "Skewness of variable popularity : -0.54 (left-tailed)\n",
      "Skewness of variable danceability : -0.41 (left-tailed)\n",
      "Skewness of variable energy : -0.39 (left-tailed)\n",
      "Skewness of variable key : 0.03 (approximately symmetric)\n",
      "Skewness of variable loudness : -1.15 (left-tailed)\n",
      "Skewness of variable mode : -0.77 (left-tailed)\n",
      "Skewness of variable speechiness : 2.91 (right-tailed)\n",
      "Skewness of variable acousticness : 0.95 (right-tailed)\n",
      "Skewness of variable instrumentalness : 9.40 (right-tailed)\n",
      "Skewness of variable liveness : 2.38 (right-tailed)\n",
      "Skewness of variable valence : 0.22 (right-tailed)\n",
      "Skewness of variable tempo : 0.54 (right-tailed)\n"
     ]
    }
   ],
   "source": [
    "for col in ['popularity', 'danceability', 'energy', 'key',\n",
    "       'loudness', 'mode', 'speechiness', 'acousticness', 'instrumentalness',\n",
    "       'liveness', 'valence', 'tempo']:\n",
    "    print(\"Skewness of variable %s : %0.2f (%s)\" % (col, skew(tracks_df[col]), skew_type(skew(tracks_df[col]),0.1)))\n"
   ]
  },
  {
   "cell_type": "markdown",
   "metadata": {
    "ExecuteTime": {
     "end_time": "2020-10-05T02:44:11.580025Z",
     "start_time": "2020-10-05T02:44:11.531052Z"
    }
   },
   "source": [
    "### Kurtosis - tells you how thick the tail is\n",
    "[Kurtosis](https://towardsdatascience.com/testing-for-normality-using-skewness-and-kurtosis-afd61be860) is a measure of how differently shaped are the tails of a distribution as compared to the tails of the normal distribution. While skewness focuses on the overall shape, Kurtosis focuses on the tail shape.\n",
    "\n",
    "![Kurtosis](https://external-content.duckduckgo.com/iu/?u=http%3A%2F%2Fimg.tfd.com%2Fmk%2FK%2FX2604-K-11.png&f=1&nofb=1)\n",
    "\n",
    "- The kurtosis of a normal distribution is 3.\n",
    "- If kurtosis<3, it is said to be *playkurtic*, which means it tends to produce fewer and less extreme outliers than the normal distribution.\n",
    "- If kurtosis>3, it is said to be *leptokurtic*, which means it tends to produce more outliers than the normal distribution."
   ]
  },
  {
   "cell_type": "code",
   "execution_count": 44,
   "metadata": {},
   "outputs": [
    {
     "data": {
      "text/plain": [
       "-0.46882948397423974"
      ]
     },
     "execution_count": 44,
     "metadata": {},
     "output_type": "execute_result"
    }
   ],
   "source": [
    "kurtosis(tracks_df['energy'])"
   ]
  },
  {
   "cell_type": "code",
   "execution_count": 45,
   "metadata": {
    "ExecuteTime": {
     "end_time": "2022-01-04T10:52:18.416246Z",
     "start_time": "2022-01-04T10:52:18.410250Z"
    }
   },
   "outputs": [],
   "source": [
    "def kurtosis_type(kurtval, kurtthres):\n",
    "    test_kurtosis_value = abs(kurtval-kurtthres)\n",
    "    #in scipy's implementation, 3 is subtracted from the original definition of kurtosis   \n",
    "    if (test_kurtosis_value > 0) & (np.sign(kurtval)>0):\n",
    "        return \"heavy-tailed\"\n",
    "    elif  (test_kurtosis_value  > 0) & (np.sign(kurtval)<0):\n",
    "        return \"light-tailed\"\n",
    "    else:\n",
    "        return \"approximately normal\""
   ]
  },
  {
   "cell_type": "code",
   "execution_count": 46,
   "metadata": {
    "ExecuteTime": {
     "end_time": "2022-01-04T10:52:51.592374Z",
     "start_time": "2022-01-04T10:52:51.541403Z"
    }
   },
   "outputs": [
    {
     "name": "stdout",
     "output_type": "stream",
     "text": [
      "Kurtosis of variable popularity : -1.18 (light-tailed)\n",
      "Kurtosis of variable danceability : -0.10 (light-tailed)\n",
      "Kurtosis of variable energy : -0.47 (light-tailed)\n",
      "Kurtosis of variable key : -1.28 (light-tailed)\n",
      "Kurtosis of variable loudness : 2.34 (heavy-tailed)\n",
      "Kurtosis of variable mode : -1.40 (light-tailed)\n",
      "Kurtosis of variable speechiness : 11.31 (heavy-tailed)\n",
      "Kurtosis of variable acousticness : -0.32 (light-tailed)\n",
      "Kurtosis of variable instrumentalness : 93.59 (heavy-tailed)\n",
      "Kurtosis of variable liveness : 7.27 (heavy-tailed)\n",
      "Kurtosis of variable valence : -0.73 (light-tailed)\n",
      "Kurtosis of variable tempo : -0.12 (light-tailed)\n"
     ]
    }
   ],
   "source": [
    "for col in ['popularity', 'danceability', 'energy', 'key',\n",
    "       'loudness', 'mode', 'speechiness', 'acousticness', 'instrumentalness',\n",
    "       'liveness', 'valence', 'tempo']:\n",
    "    THRES = 0.1\n",
    "    print(\"Kurtosis of variable %s : %0.2f (%s)\" % \\\n",
    "          (col, kurtosis(tracks_df[col]), kurtosis_type(kurtosis(tracks_df[col]),THRES)))\n"
   ]
  },
  {
   "cell_type": "markdown",
   "metadata": {},
   "source": [
    "## Try it yourself!\n",
    "Pick an artist and compare each of the audio features distribution of his/her songs to all the charting tracks in the whole time period. What does this say about the artist?"
   ]
  },
  {
   "cell_type": "code",
   "execution_count": null,
   "metadata": {},
   "outputs": [],
   "source": []
  },
  {
   "cell_type": "markdown",
   "metadata": {},
   "source": [
    "### Resources\n",
    "More details on skewness and kurtosis [here](https://codeburst.io/2-important-statistics-terms-you-need-to-know-in-data-science-skewness-and-kurtosis-388fef94eeaa) and [here](https://brownmath.com/stat/shape.htm)\n",
    "\n"
   ]
  }
 ],
 "metadata": {
  "kernelspec": {
   "display_name": "Python 3 (ipykernel)",
   "language": "python",
   "name": "python3"
  },
  "language_info": {
   "codemirror_mode": {
    "name": "ipython",
    "version": 3
   },
   "file_extension": ".py",
   "mimetype": "text/x-python",
   "name": "python",
   "nbconvert_exporter": "python",
   "pygments_lexer": "ipython3",
   "version": "3.9.12"
  }
 },
 "nbformat": 4,
 "nbformat_minor": 2
}
