{
 "cells": [
  {
   "cell_type": "markdown",
   "metadata": {},
   "source": [
    "# Day 4- Lab Activity\n",
    "##  Classifying Tracks according to Stream Trends"
   ]
  },
  {
   "cell_type": "markdown",
   "metadata": {},
   "source": [
    "#### Data Prep"
   ]
  },
  {
   "cell_type": "code",
   "execution_count": null,
   "metadata": {},
   "outputs": [],
   "source": [
    "# read and process the charts dataset\n",
    "df = pd.read_csv('data/spotify_daily_charts.csv')\n",
    "#transform date column into a datetime column\n",
    "df['date'] = pd.to_datetime(df['date'])\n",
    "df = df.set_index('date')\n",
    "df.head()"
   ]
  },
  {
   "cell_type": "markdown",
   "metadata": {},
   "source": [
    "## Instructions"
   ]
  },
  {
   "cell_type": "markdown",
   "metadata": {},
   "source": [
    "A track may be classified as follows:\n",
    "\n",
    "   - **Mainstay** - Track with high streams ($>X_1$ streams) and position ($>P_1$ position) all throughout the year\n",
    "   - **Viral** - Track that reach the peak positions fast with high increase in streams ($>X_2$ streams/day),\n",
    "     followed by a rapid decline in position ($P_2$ positions/day) and streams ($>X_3$ streams/day)\n",
    "   - **Seasonal** - Track that garner considerable streams ($>X_4$ streams) within a certain season (between $T_1$ and $T_2$) and go into low ranks/ disappear from the chart after the season\n",
    "    \n",
    "   a. Discuss among your group how you would define and set values to the thresholds ($X_1$,$P_1$,$X_2$,$P_2$,$X_3$,$T_1$,$T_2$,$X_4$) that you will use to classify the tracks according to the categories as described above. (You may add more thresholds to refine the definitions, as you see fit). \n",
    "   \n",
    "   b. Using your group's definition in (a) name as many tracks as you can per classification and plot their streams and position as a time series."
   ]
  },
  {
   "cell_type": "code",
   "execution_count": null,
   "metadata": {},
   "outputs": [],
   "source": [
    "# Code here"
   ]
  },
  {
   "cell_type": "markdown",
   "metadata": {},
   "source": [
    "**CHALLENGE:** What percentage of Spotify charts streams from 2017-2021 are from mainstay tracks? viral tracks? seasonal tracks? tracks that do not belong in any of these categories? What does this reveal about the streaming market?"
   ]
  },
  {
   "cell_type": "code",
   "execution_count": null,
   "metadata": {
    "collapsed": true
   },
   "outputs": [],
   "source": [
    "# Code here"
   ]
  },
  {
   "cell_type": "markdown",
   "metadata": {},
   "source": [
    "*Submit this notebook at the end of class time*"
   ]
  },
  {
   "cell_type": "code",
   "execution_count": null,
   "metadata": {},
   "outputs": [],
   "source": []
  }
 ],
 "metadata": {
  "kernelspec": {
   "display_name": "Python 3 (ipykernel)",
   "language": "python",
   "name": "python3"
  },
  "language_info": {
   "codemirror_mode": {
    "name": "ipython",
    "version": 3
   },
   "file_extension": ".py",
   "mimetype": "text/x-python",
   "name": "python",
   "nbconvert_exporter": "python",
   "pygments_lexer": "ipython3",
   "version": "3.9.12"
  }
 },
 "nbformat": 4,
 "nbformat_minor": 4
}
