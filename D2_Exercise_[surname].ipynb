{
 "cells": [
  {
   "cell_type": "markdown",
   "metadata": {},
   "source": [
    "# Day 2 Exercise -  Comparing and interpreting distributions "
   ]
  },
  {
   "cell_type": "code",
   "execution_count": null,
   "metadata": {},
   "outputs": [],
   "source": [
    "import numpy as np \n",
    "import pandas as pd \n",
    "import matplotlib.pyplot as plt"
   ]
  },
  {
   "cell_type": "markdown",
   "metadata": {},
   "source": [
    "#### Data Prep"
   ]
  },
  {
   "cell_type": "code",
   "execution_count": null,
   "metadata": {},
   "outputs": [],
   "source": [
    "# read and process the tracks dataset\n",
    "tracks_df = pd.read_csv('data/spotify_daily_charts_tracks.csv')\n",
    "tracks_df.head()"
   ]
  },
  {
   "cell_type": "markdown",
   "metadata": {},
   "source": [
    "## Instructions"
   ]
  },
  {
   "cell_type": "markdown",
   "metadata": {},
   "source": [
    "1. Among artists that had appeared in the Spotify charts dataset, pick at least 2 artists that you feel to be collaborators or competitors. \n",
    "\n",
    "2. For the artists chosen, plot the following and write insights for each of the plots.\n",
    "\n",
    "  A. Histograms of their tracks' audio features.\n",
    "  \n",
    "  B. Distribution plot (stacked area/box plot/heat map) of their tracks' streams\n",
    "  \n",
    "  \n",
    "3. Compare the distribution plots of the 2 artists. How are they similar/different from each other? Write your insights at the cells below.\n",
    "\n",
    "4. Share your key findings to the group"
   ]
  },
  {
   "cell_type": "markdown",
   "metadata": {},
   "source": [
    "#### Artist 1: [insert artist name here]"
   ]
  },
  {
   "cell_type": "code",
   "execution_count": null,
   "metadata": {},
   "outputs": [],
   "source": [
    "artist1_df = tracks_df[].copy() # complete code to filter table for artist 1"
   ]
  },
  {
   "cell_type": "code",
   "execution_count": null,
   "metadata": {
    "ExecuteTime": {
     "end_time": "2022-05-24T18:55:09.858548Z",
     "start_time": "2022-05-24T18:55:09.846537Z"
    }
   },
   "outputs": [],
   "source": [
    "# Plot audio features histograms here"
   ]
  },
  {
   "cell_type": "markdown",
   "metadata": {},
   "source": [
    "Insights on audio features histograms\n",
    "- Insight 1\n",
    "- Insight 2\n",
    "- Insight 3"
   ]
  },
  {
   "cell_type": "code",
   "execution_count": null,
   "metadata": {},
   "outputs": [],
   "source": [
    "# Plot distribution of tracks streams here"
   ]
  },
  {
   "cell_type": "markdown",
   "metadata": {
    "ExecuteTime": {
     "end_time": "2022-05-24T18:56:43.846245Z",
     "start_time": "2022-05-24T18:56:43.834249Z"
    }
   },
   "source": [
    "Insights on distribution of tracks streams \n",
    "- Insight 1\n",
    "- Insight 2\n",
    "- Insight 3"
   ]
  },
  {
   "cell_type": "markdown",
   "metadata": {},
   "source": [
    "#### Artist 2: [insert artist name here]"
   ]
  },
  {
   "cell_type": "code",
   "execution_count": null,
   "metadata": {},
   "outputs": [],
   "source": [
    "artist2_df = tracks_df[].copy() # complete code to filter table for artist 1"
   ]
  },
  {
   "cell_type": "code",
   "execution_count": null,
   "metadata": {},
   "outputs": [],
   "source": [
    "# Plot audio features histograms here"
   ]
  },
  {
   "cell_type": "markdown",
   "metadata": {},
   "source": [
    "Insights on audio features histograms\n",
    "- Insight 1\n",
    "- Insight 2\n",
    "- Insight 3"
   ]
  },
  {
   "cell_type": "code",
   "execution_count": null,
   "metadata": {},
   "outputs": [],
   "source": [
    "# Plot distribution of tracks streams here"
   ]
  },
  {
   "cell_type": "markdown",
   "metadata": {},
   "source": [
    "Insights on distribution of tracks streams \n",
    "- Insight 1\n",
    "- Insight 2\n",
    "- Insight 3"
   ]
  },
  {
   "cell_type": "markdown",
   "metadata": {},
   "source": [
    "#### Comparing the distribution plots of the 2 artists"
   ]
  },
  {
   "cell_type": "markdown",
   "metadata": {},
   "source": [
    "Insights after comparing the distribution plots.\n",
    "- Insight 1\n",
    "- Insight 2\n",
    "- Insight 3"
   ]
  },
  {
   "cell_type": "markdown",
   "metadata": {},
   "source": [
    "*Submit this notebook at the end of class time*"
   ]
  },
  {
   "cell_type": "code",
   "execution_count": null,
   "metadata": {},
   "outputs": [],
   "source": []
  }
 ],
 "metadata": {
  "kernelspec": {
   "display_name": "Python 3 (ipykernel)",
   "language": "python",
   "name": "python3"
  },
  "language_info": {
   "codemirror_mode": {
    "name": "ipython",
    "version": 3
   },
   "file_extension": ".py",
   "mimetype": "text/x-python",
   "name": "python",
   "nbconvert_exporter": "python",
   "pygments_lexer": "ipython3",
   "version": "3.9.12"
  }
 },
 "nbformat": 4,
 "nbformat_minor": 4
}
