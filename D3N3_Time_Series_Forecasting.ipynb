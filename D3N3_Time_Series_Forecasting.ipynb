{
 "cells": [
  {
   "cell_type": "markdown",
   "metadata": {},
   "source": [
    "# Time Series Forecasting"
   ]
  },
  {
   "cell_type": "markdown",
   "metadata": {},
   "source": [
    "Time series forecasting is the use of a model to predict future values based on previously observed values. "
   ]
  },
  {
   "cell_type": "code",
   "execution_count": null,
   "metadata": {
    "ExecuteTime": {
     "end_time": "2022-01-07T13:05:14.587892Z",
     "start_time": "2022-01-07T13:05:11.395267Z"
    }
   },
   "outputs": [],
   "source": [
    "import numpy as np \n",
    "import pandas as pd \n",
    "import matplotlib.pyplot as plt"
   ]
  },
  {
   "cell_type": "markdown",
   "metadata": {},
   "source": [
    "### Data Preparation"
   ]
  },
  {
   "cell_type": "code",
   "execution_count": null,
   "metadata": {
    "ExecuteTime": {
     "end_time": "2022-01-07T13:05:15.594317Z",
     "start_time": "2022-01-07T13:05:14.590891Z"
    }
   },
   "outputs": [],
   "source": [
    "# read and process the charts dataset\n",
    "df = pd.read_csv('data/spotify_daily_charts.csv')\n",
    "#transform date column into a datetime column\n",
    "df['date'] = pd.to_datetime(df['date'])\n",
    "df = df.set_index('date')\n",
    "df.head()"
   ]
  },
  {
   "cell_type": "markdown",
   "metadata": {},
   "source": [
    "## 1. Error metrics"
   ]
  },
  {
   "cell_type": "code",
   "execution_count": null,
   "metadata": {
    "ExecuteTime": {
     "end_time": "2022-01-07T13:05:22.621338Z",
     "start_time": "2022-01-07T13:05:15.599315Z"
    }
   },
   "outputs": [],
   "source": [
    "from sklearn.metrics import mean_absolute_error, mean_squared_error"
   ]
  },
  {
   "cell_type": "code",
   "execution_count": null,
   "metadata": {
    "ExecuteTime": {
     "end_time": "2022-01-07T13:05:22.660313Z",
     "start_time": "2022-01-07T13:05:22.628331Z"
    }
   },
   "outputs": [],
   "source": [
    "def mean_absolute_percentage_error(y_true, y_pred): \n",
    "    y_true, y_pred = np.array(y_true), np.array(y_pred)\n",
    "    return np.mean(np.abs((y_true - y_pred) / y_true)) * 100\n",
    "\n",
    "def root_mean_squared_error(y_true, y_pred): \n",
    "    return np.sqrt(mean_squared_error(y_true, y_pred))\n",
    "\n",
    "def show_errors(y_true, y_pred):\n",
    "    return pd.DataFrame({'RMSE': root_mean_squared_error(y_true,y_pred),\\\n",
    "                                            'MAE':mean_absolute_error(y_true,y_pred),\\\n",
    "                                            'MAPE': mean_absolute_percentage_error(y_true,y_pred)}, index=[0])"
   ]
  },
  {
   "cell_type": "markdown",
   "metadata": {},
   "source": [
    "The **Root Mean Square Error (RMSE)** penalizes larger errors higher, while the **Mean Absolute Error (MAE, meanabs)** weighs all errors equally regardless of magnitude. The **Mean Absolute Percentage Error** expresses the error as a percentage by weighting the MAE by the actual value."
   ]
  },
  {
   "cell_type": "code",
   "execution_count": null,
   "metadata": {
    "ExecuteTime": {
     "end_time": "2022-01-07T13:05:22.713285Z",
     "start_time": "2022-01-07T13:05:22.669308Z"
    }
   },
   "outputs": [],
   "source": [
    "test_actual = [2,4,6]\n",
    "test_forecast = [1,2,3]\n",
    "show_errors(test_actual,test_forecast)"
   ]
  },
  {
   "cell_type": "markdown",
   "metadata": {},
   "source": [
    "## 2. Forecasting methods"
   ]
  },
  {
   "cell_type": "markdown",
   "metadata": {},
   "source": [
    "Here are but a few techniques that could help you start exploring this field."
   ]
  },
  {
   "cell_type": "markdown",
   "metadata": {},
   "source": [
    ">Q: Can you predict Ben&Ben's Kathang Isip daily streams for the Oct to Nov 2021 using data from past dates?"
   ]
  },
  {
   "cell_type": "code",
   "execution_count": null,
   "metadata": {
    "ExecuteTime": {
     "end_time": "2022-01-07T13:05:23.101061Z",
     "start_time": "2022-01-07T13:05:22.719288Z"
    }
   },
   "outputs": [],
   "source": [
    "data = df[(df.index.year>=2019)&(df['track_name']=='Kathang Isip')][['streams']]"
   ]
  },
  {
   "cell_type": "code",
   "execution_count": null,
   "metadata": {
    "ExecuteTime": {
     "end_time": "2022-01-07T13:05:23.112056Z",
     "start_time": "2022-01-07T13:05:23.106060Z"
    }
   },
   "outputs": [],
   "source": [
    "#convert streams to hundred thousands\n",
    "data = data/100000"
   ]
  },
  {
   "cell_type": "markdown",
   "metadata": {},
   "source": [
    "For simplicity, we conduct a holdout to split the time series data into 1 train and 1 test set. \n",
    " - The test set will be the period of interest (Oct-Nov 2021)\n",
    " - We limit the train set to only up to Jun 2021 (1 quarter back)\n",
    " \n",
    "Furthermore, we assume that the test set is *streamed* on a daily basis, i.e. new data comes in daily and can be used for next day's forecast."
   ]
  },
  {
   "cell_type": "code",
   "execution_count": null,
   "metadata": {
    "ExecuteTime": {
     "end_time": "2022-01-07T13:05:24.413310Z",
     "start_time": "2022-01-07T13:05:23.119051Z"
    }
   },
   "outputs": [],
   "source": [
    "#split dataset to training and test sets\n",
    "train_df = data['2021-06-01':'2021-09-30']\n",
    "test_df = data['2021-10-01':'2021-11-30']\n",
    "\n",
    "fig = plt.figure(figsize=(15,3))\n",
    "plt.plot(train_df['streams'], color='C0', label='train')\n",
    "plt.plot(test_df['streams'], color='C7', label='test')\n",
    "plt.legend()\n",
    "plt.ylabel(\"Streams x 100K\")"
   ]
  },
  {
   "cell_type": "markdown",
   "metadata": {},
   "source": [
    "### 2.1. Previous value (Naive) Approach\n",
    "The simplest forecast--the previous available value is the forecast value."
   ]
  },
  {
   "cell_type": "code",
   "execution_count": null,
   "metadata": {
    "ExecuteTime": {
     "end_time": "2022-01-07T13:05:24.857058Z",
     "start_time": "2022-01-07T13:05:24.809087Z"
    }
   },
   "outputs": [],
   "source": [
    "# To simulate a naive forecast that takes in incoming data from test set\n",
    "# shift the data 1 day to the right\n",
    "forecast_df = data.shift(1)['2021-10-01':'2021-11-30']\n",
    "forecast_df"
   ]
  },
  {
   "cell_type": "code",
   "execution_count": null,
   "metadata": {
    "ExecuteTime": {
     "end_time": "2022-01-07T13:09:00.353863Z",
     "start_time": "2022-01-07T13:08:59.842544Z"
    }
   },
   "outputs": [],
   "source": [
    "# plot the forecast\n",
    "fig = plt.figure(figsize=(15,3))\n",
    "plt.plot(train_df['streams'], color='C0', label='train')\n",
    "plt.plot(test_df['streams'], color='C7', label='test')\n",
    "plt.plot(forecast_df['streams'], color='C1', label='forecast')\n",
    "plt.legend()\n",
    "plt.ylabel(\"Streams x 100K\")"
   ]
  },
  {
   "cell_type": "code",
   "execution_count": null,
   "metadata": {
    "ExecuteTime": {
     "end_time": "2022-01-07T13:09:03.637492Z",
     "start_time": "2022-01-07T13:09:03.621502Z"
    }
   },
   "outputs": [],
   "source": [
    "show_errors(test_df['streams'].values,forecast_df['streams'].values)"
   ]
  },
  {
   "cell_type": "markdown",
   "metadata": {},
   "source": [
    "Modification: Previous-week (D-7) value"
   ]
  },
  {
   "cell_type": "code",
   "execution_count": null,
   "metadata": {
    "ExecuteTime": {
     "end_time": "2022-01-05T11:31:19.876922Z",
     "start_time": "2022-01-05T11:31:19.869929Z"
    }
   },
   "outputs": [],
   "source": [
    "# shift the data 7 day to the right\n",
    "forecast_df = data.shift(7)['2021-10-01':'2021-11-30']"
   ]
  },
  {
   "cell_type": "code",
   "execution_count": null,
   "metadata": {
    "ExecuteTime": {
     "end_time": "2022-01-05T11:31:22.841407Z",
     "start_time": "2022-01-05T11:31:22.412653Z"
    }
   },
   "outputs": [],
   "source": [
    "# plot the forecast\n",
    "fig = plt.figure(figsize=(15,3))\n",
    "plt.plot(train_df['streams'], color='C0', label='train')\n",
    "plt.plot(test_df['streams'], color='C7', label='test')\n",
    "plt.plot(forecast_df['streams'], color='C1', label='forecast')\n",
    "plt.legend()\n",
    "plt.ylabel(\"Streams x 100K\")"
   ]
  },
  {
   "cell_type": "code",
   "execution_count": null,
   "metadata": {
    "ExecuteTime": {
     "end_time": "2022-01-05T11:31:38.561686Z",
     "start_time": "2022-01-05T11:31:38.547696Z"
    }
   },
   "outputs": [],
   "source": [
    "show_errors(test_df['streams'],forecast_df['streams'])"
   ]
  },
  {
   "cell_type": "markdown",
   "metadata": {},
   "source": [
    "### 2.2. Windowed Average Approach\n",
    "The average over the X recent days is the forecast value"
   ]
  },
  {
   "cell_type": "code",
   "execution_count": null,
   "metadata": {
    "ExecuteTime": {
     "end_time": "2022-01-05T11:35:40.310102Z",
     "start_time": "2022-01-05T11:35:40.300109Z"
    }
   },
   "outputs": [],
   "source": [
    "# To simulate a windowed forecast that takes in incoming data from test set\n",
    "# use the pd.rolling grouper and pass the mean method\n",
    "# and shift 1 day ahead to match target forecast date\n",
    "\n",
    "#Set window to 7 days\n",
    "forecast_df = data.rolling(7).mean().shift(1)['2021-10-01':'2021-11-30']"
   ]
  },
  {
   "cell_type": "code",
   "execution_count": null,
   "metadata": {
    "ExecuteTime": {
     "end_time": "2022-01-05T11:35:43.090479Z",
     "start_time": "2022-01-05T11:35:42.608980Z"
    }
   },
   "outputs": [],
   "source": [
    "# plot the forecast\n",
    "fig = plt.figure(figsize=(15,3))\n",
    "plt.plot(train_df['streams'], color='C0', label='train')\n",
    "plt.plot(test_df['streams'], color='C7', label='test')\n",
    "plt.plot(forecast_df['streams'], color='C1', label='forecast')\n",
    "plt.legend()\n",
    "plt.ylabel(\"Streams x 100K\")"
   ]
  },
  {
   "cell_type": "code",
   "execution_count": null,
   "metadata": {
    "ExecuteTime": {
     "end_time": "2022-01-05T11:36:14.704173Z",
     "start_time": "2022-01-05T11:36:14.689184Z"
    }
   },
   "outputs": [],
   "source": [
    "show_errors(test_df['streams'],forecast_df['streams'])"
   ]
  },
  {
   "cell_type": "markdown",
   "metadata": {},
   "source": [
    "### 2.3. Exponential Average Approach\n",
    "The weighted average over the most recent days is the forecast value, where the weights are given by the following formula as set by a smoothing factor $\\alpha$\n",
    "\n",
    "![](https://miro.medium.com/max/1256/1*gzC8tdlwaLM3Y1tiaM3xzw.png)\n",
    "\n",
    " Larger $\\alpha$ values will assign larger weights to more recent dates."
   ]
  },
  {
   "cell_type": "code",
   "execution_count": null,
   "metadata": {
    "ExecuteTime": {
     "end_time": "2022-01-05T11:39:52.315827Z",
     "start_time": "2022-01-05T11:39:52.305832Z"
    }
   },
   "outputs": [],
   "source": [
    "# To simulate an EMA  forecast that takes in incoming data from test set\n",
    "# use the pd.rolling grouper and pass the mean method\n",
    "# and shift 1 day ahead to match target forecast date\n",
    "\n",
    "#Set window to 7 days\n",
    "#Set alpha to 0.7, i.e. 70% of the forecast will come from the most recent data point\n",
    "\n",
    "forecast_df = data.ewm(alpha=0.7).mean().shift(1)['2021-10-01':'2021-11-30']"
   ]
  },
  {
   "cell_type": "code",
   "execution_count": null,
   "metadata": {
    "ExecuteTime": {
     "end_time": "2022-01-05T11:39:54.869543Z",
     "start_time": "2022-01-05T11:39:54.294872Z"
    }
   },
   "outputs": [],
   "source": [
    "# plot the forecast\n",
    "fig = plt.figure(figsize=(15,3))\n",
    "plt.plot(train_df['streams'], color='C0', label='train')\n",
    "plt.plot(test_df['streams'], color='C7', label='test')\n",
    "plt.plot(forecast_df['streams'], color='C1', label='forecast')\n",
    "plt.legend()\n",
    "plt.ylabel(\"Streams x 100K\")"
   ]
  },
  {
   "cell_type": "code",
   "execution_count": null,
   "metadata": {
    "ExecuteTime": {
     "end_time": "2022-01-05T11:40:30.719019Z",
     "start_time": "2022-01-05T11:40:30.703027Z"
    }
   },
   "outputs": [],
   "source": [
    "show_errors(test_df['streams'],forecast_df['streams'])"
   ]
  },
  {
   "cell_type": "markdown",
   "metadata": {},
   "source": [
    "### 2.4. Trend and Seasonality Approaches \n",
    "One example of a forecasting method that takes trend and seasonality into account is the Holt-Winters method, which uses exponential averages over components. The **Holt-Winters seasonal method** comprises the forecast equation and three smoothing equations\n",
    "\n",
    "![](https://cdn.analyticsvidhya.com/wp-content/uploads/2018/01/eq.png)\n",
    "\n",
    "The method implemented in statsmodels automatically computes for the required parameters"
   ]
  },
  {
   "cell_type": "code",
   "execution_count": null,
   "metadata": {
    "ExecuteTime": {
     "end_time": "2022-01-05T11:41:40.306669Z",
     "start_time": "2022-01-05T11:41:39.768641Z"
    }
   },
   "outputs": [],
   "source": [
    "from statsmodels.tsa.api import ExponentialSmoothing"
   ]
  },
  {
   "cell_type": "markdown",
   "metadata": {},
   "source": [
    "We generate the forecast by calling the fitted model to generate values for every required timestep. \n",
    "For this example , we tune the model one-time, and only on the initial train data"
   ]
  },
  {
   "cell_type": "code",
   "execution_count": null,
   "metadata": {
    "ExecuteTime": {
     "end_time": "2022-01-05T11:43:07.914087Z",
     "start_time": "2022-01-05T11:43:07.501095Z"
    }
   },
   "outputs": [],
   "source": [
    "# specify fit for weekly (d=7) seasonal cycles\n",
    "# assume additive combinations of component\n",
    "model_fit = ExponentialSmoothing(train_df['streams'],seasonal_periods=7 ,trend='add', seasonal='add').fit()\n",
    "forecast_df = pd.DataFrame(model_fit.forecast(len(test_df)).values, index=test_df.index,\\\n",
    "                           columns=['streams']) "
   ]
  },
  {
   "cell_type": "code",
   "execution_count": null,
   "metadata": {
    "ExecuteTime": {
     "end_time": "2022-01-05T11:43:12.902495Z",
     "start_time": "2022-01-05T11:43:12.449755Z"
    }
   },
   "outputs": [],
   "source": [
    "#plot the fitted training data\n",
    "fig = plt.figure(figsize=(15,3))\n",
    "\n",
    "plt.plot(train_df['streams'], color='C0', label='train')\n",
    "plt.plot(test_df['streams'], color='C7', label='test')\n",
    "plt.plot(forecast_df['streams'], color='C1', label='forecast')\n",
    "plt.legend()\n",
    "plt.ylabel(\"Streams x 100K\")"
   ]
  },
  {
   "cell_type": "code",
   "execution_count": null,
   "metadata": {
    "ExecuteTime": {
     "end_time": "2022-01-05T11:43:16.513832Z",
     "start_time": "2022-01-05T11:43:16.497841Z"
    }
   },
   "outputs": [],
   "source": [
    "show_errors(test_df['streams'],forecast_df['streams'])"
   ]
  },
  {
   "cell_type": "markdown",
   "metadata": {},
   "source": [
    "### 2.5. Stochastic Approaches\n",
    "A popular and frequently used stochastic (i.e. probabilistic \"randomness\" based models) time series model is the ARIMA model. It assumes that the time-series is linear and follows a particular known statistical distribution, such as the normal distribution, and has subclass of other models such as the Autoregressive (AR) model, the Moving average (MA) model, and the Autoregressive Moving Average (ARMA) model of which the ARIMA model was based on. \n",
    "\n",
    "An *ARIMA model* is usually written as ARIMA (p,d,q) \n",
    "\n",
    "![](https://miro.medium.com/max/875/1*J1cOKMRU17nr71T-Xx6_HQ.png)\n",
    "\n",
    "where: \n",
    "\n",
    "p = The order of the Autoregressive part of the model\n",
    "\n",
    "d= The degree of first differencing in our model\n",
    "\n",
    "q = The order of the Moving average part of the model\n",
    "\n",
    "**How do we get the optimal values for these parameters?**\n",
    "\n",
    "**p**: The PACF can be used to determine how many AR terms you need to use to explain the autocorrelation pattern in a time series: if the partial autocorrelation is significant at lag k and not significant at any higher order lags — i.e., if the PACF “cuts off” at lag k — then this suggests that you should try fitting an autoregressive model of order k\n",
    "\n",
    "**q**: The ACF can be used to determine how many MA terms you need for a model. Another way to think about the moving average model is that it corrects future forecasts based on errors made on recent forecasts. We would expect the ACF for the MA(k) process to show a strong correlation with recent values up to the lag of k, then a sharp decline to low or no correlation. \n",
    "\n",
    "**d**: Used only when time series is not stationary. Usually d=1 or 2 is sufficient"
   ]
  },
  {
   "cell_type": "code",
   "execution_count": null,
   "metadata": {
    "ExecuteTime": {
     "end_time": "2022-01-05T11:48:49.118603Z",
     "start_time": "2022-01-05T11:48:49.112604Z"
    }
   },
   "outputs": [],
   "source": [
    "from statsmodels.tsa.arima.model import ARIMA\n",
    "from statsmodels.graphics.tsaplots import plot_acf, plot_pacf"
   ]
  },
  {
   "cell_type": "code",
   "execution_count": null,
   "metadata": {
    "ExecuteTime": {
     "end_time": "2022-01-05T11:49:18.137142Z",
     "start_time": "2022-01-05T11:49:17.529490Z"
    }
   },
   "outputs": [],
   "source": [
    "#PACF\n",
    "fig = plt.figure(figsize=(10,6))\n",
    "ax1 = fig.add_subplot(211)\n",
    "ax2 = fig.add_subplot(212)\n",
    "\n",
    "acf = plot_acf(train_df['streams'].interpolate().diff()[1:], lags=50, ax=ax1)\n",
    "pacf = plot_pacf(train_df['streams'].interpolate().diff()[1:], lags=50, ax=ax2)"
   ]
  },
  {
   "cell_type": "markdown",
   "metadata": {},
   "source": [
    "From the ACF, it seems like the model needs to take in 7 MA terms (i.e. moving averages up to 7 days), i.e. q=7\n",
    "\n",
    "From the PACF, it is likely that a model with up to 7 AR terms also would be best to use, i.e. p=7\n",
    "\n",
    "We set d = 1 to stationarize the train set"
   ]
  },
  {
   "cell_type": "code",
   "execution_count": null,
   "metadata": {
    "ExecuteTime": {
     "end_time": "2022-01-05T11:52:10.058715Z",
     "start_time": "2022-01-05T11:52:06.909301Z"
    }
   },
   "outputs": [],
   "source": [
    "model = ARIMA(train_df, order=(7, 1, 7))  \n",
    "model_fit = model.fit() \n",
    "train_fit_df = pd.DataFrame(model_fit.fittedvalues, columns=['streams'])"
   ]
  },
  {
   "cell_type": "code",
   "execution_count": null,
   "metadata": {
    "ExecuteTime": {
     "end_time": "2022-01-05T11:52:49.296563Z",
     "start_time": "2022-01-05T11:52:48.827739Z"
    }
   },
   "outputs": [],
   "source": [
    "#plot the fitted training data\n",
    "fig = plt.figure(figsize=(15,3))\n",
    "\n",
    "plt.plot(train_df['streams'], color='C0', label='train')\n",
    "plt.plot(test_df['streams'], color='C7', label='test')\n",
    "plt.plot(train_fit_df['streams'], color='C1', label='train_fit')\n",
    "plt.legend()\n",
    "plt.ylabel(\"Streams x 100K\")"
   ]
  },
  {
   "cell_type": "markdown",
   "metadata": {},
   "source": [
    "We generate the forecast by calling the fitted model to generate values for every required timestep. \n",
    "For this example , we tune the model one-time, and only on the initial train data"
   ]
  },
  {
   "cell_type": "code",
   "execution_count": null,
   "metadata": {
    "ExecuteTime": {
     "end_time": "2022-01-05T11:54:04.414937Z",
     "start_time": "2022-01-05T11:54:04.397949Z"
    }
   },
   "outputs": [],
   "source": [
    "#dynamic = True toggles use of preceding forecast value with the model fit values to get the next forecast value\n",
    "forecast_df = pd.DataFrame(model_fit.forecast(len(test_df),dynamic=True).values, index=test_df.index,\\\n",
    "                           columns=['streams'])"
   ]
  },
  {
   "cell_type": "code",
   "execution_count": null,
   "metadata": {
    "ExecuteTime": {
     "end_time": "2022-01-05T11:54:11.462386Z",
     "start_time": "2022-01-05T11:54:10.964160Z"
    }
   },
   "outputs": [],
   "source": [
    "#plot the fitted training data\n",
    "fig = plt.figure(figsize=(15,3))\n",
    "\n",
    "plt.plot(train_df['streams'], color='C0', label='train')\n",
    "plt.plot(test_df['streams'], color='C7', label='test')\n",
    "plt.plot(forecast_df['streams'], color='C1', label='forecast')\n",
    "plt.legend()\n",
    "plt.ylabel(\"Streams x 100K\")"
   ]
  },
  {
   "cell_type": "code",
   "execution_count": null,
   "metadata": {
    "ExecuteTime": {
     "end_time": "2022-01-05T11:55:06.155184Z",
     "start_time": "2022-01-05T11:55:06.139213Z"
    }
   },
   "outputs": [],
   "source": [
    "show_errors(test_df['streams'],forecast_df['streams'])"
   ]
  },
  {
   "cell_type": "markdown",
   "metadata": {},
   "source": [
    "### Resources\n",
    "\n",
    "-  Fundamental time series forecasting methods in more detail[here](https://www.analyticsvidhya.com/blog/2018/02/time-series-forecasting-methods/)\n",
    "-  How to use PACF to tune ARIMA models [here](https://support.minitab.com/en-us/minitab/19/help-and-how-to/statistical-modeling/time-series/how-to/partial-autocorrelation/interpret-the-results/partial-autocorrelation-function-pacf/)\n"
   ]
  },
  {
   "cell_type": "code",
   "execution_count": null,
   "metadata": {},
   "outputs": [],
   "source": []
  }
 ],
 "metadata": {
  "kernelspec": {
   "display_name": "Python 3 (ipykernel)",
   "language": "python",
   "name": "python3"
  },
  "language_info": {
   "codemirror_mode": {
    "name": "ipython",
    "version": 3
   },
   "file_extension": ".py",
   "mimetype": "text/x-python",
   "name": "python",
   "nbconvert_exporter": "python",
   "pygments_lexer": "ipython3",
   "version": "3.9.12"
  }
 },
 "nbformat": 4,
 "nbformat_minor": 2
}
