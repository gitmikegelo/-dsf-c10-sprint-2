{
 "cells": [
  {
   "cell_type": "markdown",
   "metadata": {},
   "source": [
    "# Day 7 Exercise\n",
    "\n",
    "### Creating your own recommender engine pool and generating recommendations from a seed track"
   ]
  },
  {
   "cell_type": "markdown",
   "metadata": {},
   "source": [
    "**A. Your own genre classification model (Individual)**\n",
    "1. Choose your own set of genres to be used as prediction values of the supervised classification model used in class. You may select among the ones listed above or a completely new one (but you must already have the scraped playlist and tracks data for this new genre) \n",
    "\n",
    "2. Choose the features you want to use for the classification. Start by using all and then narrow down by removing one feature at a time and checking if the accuracy increases.\n",
    "\n",
    "3. Check if the model works by using it to predict genres of the `spotify_daily_charts_tracks` dataset. Do some spot checks and view the songs classified with the highest probabilities per genre\n",
    "\n",
    "-----\n",
    "\n",
    "**B. Creating your own recommender engine pool (Groupwork)**\n",
    "\n",
    "4. Discuss among your group on how you will obtain a tracks dataset that is relevant to the client you are targeting. \n",
    "   For example:\n",
    "   \n",
    "    - A client artist's full discography (hint: use `sp.playlist_tracks(ALBUM_ID)` for every album of the artist)\n",
    "    \n",
    "    - Tracks from a popular playlist in spotify that your client artist appears in\n",
    "    \n",
    "    - Discographies of prospect artists to collaborate with \n",
    "    \n",
    "    - Popular tracks of the genre that your client artist is targeting to enter\n",
    "    \n",
    "5. Using the model you tuned in (A), predict the genres of the tracks in (B.4). \n",
    "\n",
    "6. Do some spot checks and view the songs classified with the highest probabilities per genre. \n",
    "   What does the predicted classifications reveal about your tracks dataset?\n",
    "7. Share your key findings to the group.\n",
    "-----\n",
    " \n",
    "**C. Generating Recommendations based on a seed track (Groupwork, optional for today's submission but helpful for your final output)**\n",
    "\n",
    "7. Explore different seed tracks configurations:\n",
    "    - A single track\n",
    "    - A *representative track* made by aggregating the audio features and genre probabilities of all tracks in a chosen album/genre\n",
    "    - A *hypothetical track* with specified desired audio feature values\n",
    "    \n",
    "8. For each choice of seed track in, generate using the recommender engine pool you made in (A). As a user, would you listen to the recommended tracks?\n",
    "\n",
    "9. In addition to (2), check if the top 10 tracks with the **worst** similarity measure (i.e. most dissimilar to the seed track) make sense. As a user, do you agree that these are the tracks to be first discarded from the recommendation pool?\n"
   ]
  },
  {
   "cell_type": "markdown",
   "metadata": {},
   "source": [
    "*Submit this notebook at the end of class time*"
   ]
  },
  {
   "cell_type": "markdown",
   "metadata": {},
   "source": [
    "## A. Genre classification"
   ]
  },
  {
   "cell_type": "code",
   "execution_count": null,
   "metadata": {},
   "outputs": [],
   "source": [
    "#Code here"
   ]
  },
  {
   "cell_type": "code",
   "execution_count": null,
   "metadata": {},
   "outputs": [],
   "source": [
    "#Code here"
   ]
  },
  {
   "cell_type": "code",
   "execution_count": null,
   "metadata": {},
   "outputs": [],
   "source": [
    "#Code here"
   ]
  },
  {
   "cell_type": "markdown",
   "metadata": {},
   "source": [
    "## B. Recommender Engine Pool for Client"
   ]
  },
  {
   "cell_type": "code",
   "execution_count": null,
   "metadata": {},
   "outputs": [],
   "source": [
    "#Code here"
   ]
  },
  {
   "cell_type": "code",
   "execution_count": null,
   "metadata": {},
   "outputs": [],
   "source": [
    "#Code here"
   ]
  },
  {
   "cell_type": "code",
   "execution_count": null,
   "metadata": {},
   "outputs": [],
   "source": [
    "#Code here"
   ]
  },
  {
   "cell_type": "markdown",
   "metadata": {},
   "source": [
    "## C. Recommendations based on seed track"
   ]
  },
  {
   "cell_type": "code",
   "execution_count": null,
   "metadata": {},
   "outputs": [],
   "source": [
    "#Code here"
   ]
  },
  {
   "cell_type": "code",
   "execution_count": null,
   "metadata": {},
   "outputs": [],
   "source": [
    "#Code here"
   ]
  },
  {
   "cell_type": "code",
   "execution_count": null,
   "metadata": {},
   "outputs": [],
   "source": [
    "#Code here"
   ]
  }
 ],
 "metadata": {
  "kernelspec": {
   "display_name": "Python 3 (ipykernel)",
   "language": "python",
   "name": "python3"
  },
  "language_info": {
   "codemirror_mode": {
    "name": "ipython",
    "version": 3
   },
   "file_extension": ".py",
   "mimetype": "text/x-python",
   "name": "python",
   "nbconvert_exporter": "python",
   "pygments_lexer": "ipython3",
   "version": "3.9.12"
  }
 },
 "nbformat": 4,
 "nbformat_minor": 2
}
